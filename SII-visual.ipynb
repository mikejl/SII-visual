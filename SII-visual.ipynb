{
 "metadata": {
  "name": "",
  "signature": "sha256:55a24d283600d2c9f380b4a9bc7549cf89a7935f7546816f53f08dc1e110c59f"
 },
 "nbformat": 3,
 "nbformat_minor": 0,
 "worksheets": [
  {
   "cells": [
    {
     "cell_type": "markdown",
     "metadata": {},
     "source": [
      "#Dendrogram in python"
     ]
    },
    {
     "cell_type": "markdown",
     "metadata": {},
     "source": [
      "Links:  \n",
      "http://docs.scipy.org/doc/scipy/reference/generated/scipy.cluster.hierarchy.dendrogram.html\n",
      "http://en.wikipedia.org/wiki/Python_syntax_and_semantics"
     ]
    },
    {
     "cell_type": "heading",
     "level": 1,
     "metadata": {},
     "source": [
      "GraphViz"
     ]
    },
    {
     "cell_type": "markdown",
     "metadata": {},
     "source": [
      "https://pypi.python.org/pypi/graphviz"
     ]
    },
    {
     "cell_type": "heading",
     "level": 1,
     "metadata": {},
     "source": [
      "sympy dotprint for GraphViz"
     ]
    },
    {
     "cell_type": "markdown",
     "metadata": {},
     "source": [
      "http://docs.sympy.org/dev/modules/printing.html?highlight=dotprint#sympy.printing.dot.dotprint"
     ]
    },
    {
     "cell_type": "code",
     "collapsed": false,
     "input": [
      "#from sympy.printing.dot import dotprint"
     ],
     "language": "python",
     "metadata": {},
     "outputs": []
    },
    {
     "cell_type": "code",
     "collapsed": false,
     "input": [
      "#dot.render('out.gv', view=True)"
     ],
     "language": "python",
     "metadata": {},
     "outputs": []
    },
    {
     "cell_type": "heading",
     "level": 1,
     "metadata": {},
     "source": [
      "Visual GraphViz in iPython Notebook"
     ]
    },
    {
     "cell_type": "markdown",
     "metadata": {},
     "source": [
      "http://nbviewer.ipython.org/gist/deeplook/4770302\n",
      "\n",
      "https://github.com/tkf/ipython-hierarchymagic\n",
      "\n",
      "https://github.com/ipython/ipython/wiki/Extensions-Index\n",
      "\n",
      "http://sphinx-doc.org/index.html\n",
      "\n",
      "http://graphviz.readthedocs.org/en/stable/examples.html"
     ]
    },
    {
     "cell_type": "code",
     "collapsed": false,
     "input": [
      "%install_ext https://raw.github.com/tkf/ipython-hierarchymagic/master/hierarchymagic.py\n",
      "%load_ext hierarchymagic"
     ],
     "language": "python",
     "metadata": {},
     "outputs": [
      {
       "output_type": "stream",
       "stream": "stdout",
       "text": [
        "Installed hierarchymagic.py. To use it, type:\n",
        "  %load_ext hierarchymagic\n"
       ]
      }
     ],
     "prompt_number": 1
    },
    {
     "cell_type": "code",
     "collapsed": false,
     "input": [
      "from graphviz import Digraph\n",
      "from sympy.printing.dot import dotprint"
     ],
     "language": "python",
     "metadata": {},
     "outputs": [],
     "prompt_number": 2
    },
    {
     "cell_type": "heading",
     "level": 1,
     "metadata": {},
     "source": [
      "Main Data Sets from Mongo"
     ]
    },
    {
     "cell_type": "code",
     "collapsed": false,
     "input": [
      "from matplotlib.pyplot import show\n",
      "from scipy.spatial.distance import pdist\n",
      "from scipy.cluster.hierarchy import linkage, dendrogram\n",
      "from numpy.random import rand\n",
      "\n",
      "import pymongo\n",
      "import json\n",
      "import datetime\n",
      "import subprocess\n",
      "from pymongo import MongoClient\n",
      "from subprocess import call\n",
      "from tabulate import tabulate\n",
      "import sys"
     ],
     "language": "python",
     "metadata": {},
     "outputs": [],
     "prompt_number": 3
    },
    {
     "cell_type": "code",
     "collapsed": false,
     "input": [
      "# Main Data sets\n",
      "#Test 1\n",
      "client = MongoClient('localhost', 27017)\n",
      "db = client.cent1t1\n",
      "# Service    \n",
      "serviceres1 = list(db.service.find({},{\"Sys\": 1,\"Service\":1 ,\"Domain\":1,\"Context\":1,\"_id\":0}))\n",
      "# Poicy\n",
      "boolres1 = list(db.booleans.find({},{\"Boolean\":1 ,\"Domain\":1,\"State\":1, \"Default\":1,\"_id\":0}))\n",
      "# File Context\n",
      "contextres1 = list(db.fcontext.find({},{\"Path\":1 ,\"Domain\":1,\"Context\":1, \"Type\":1,\"_id\":0}))\n",
      "\n",
      "#Test 2\n",
      "client = MongoClient('localhost', 27017)\n",
      "db = client.cent1t2\n",
      "# Service    \n",
      "serviceres2 = list(db.service.find({},{\"Sys\":1, \"Service\":1 ,\"Domain\":1,\"Context\":1,\"_id\":0}))\n",
      "# Poicy\n",
      "boolres2 = list(db.booleans.find({},{\"Boolean\":1 ,\"Domain\":1,\"State\":1, \"Default\":1,\"_id\":0}))\n",
      "# File Context\n",
      "contextres2 = list(db.fcontext.find({},{\"Path\":1 ,\"Domain\":1,\"Context\":1, \"Type\":1,\"_id\":0}))\n",
      "\n",
      "#Test 3\n",
      "client = MongoClient('localhost', 27017)\n",
      "db = client.cent1t3\n",
      "# Service    \n",
      "serviceres3 = list(db.service.find({},{\"Sys\":1, \"Service\":1 ,\"Domain\":1,\"Context\":1,\"_id\":0}))\n",
      "# Poicy\n",
      "boolres3 = list(db.booleans.find({},{\"Boolean\":1 ,\"Domain\":1,\"State\":1, \"Default\":1,\"_id\":0}))\n",
      "# File Context\n",
      "contextres3 = list(db.fcontext.find({},{\"Path\":1 ,\"Domain\":1,\"Context\":1, \"Type\":1,\"_id\":0}))\n",
      "\n",
      "#Test 4\n",
      "client = MongoClient('localhost', 27017)\n",
      "db = client.cent1t4\n",
      "# Service    \n",
      "serviceres4 = list(db.service.find({},{\"Sys\":1, \"Service\":1 ,\"Domain\":1,\"Context\":1,\"_id\":0}))\n",
      "# Poicy\n",
      "boolres4 = list(db.booleans.find({},{\"Boolean\":1 ,\"Domain\":1,\"State\":1, \"Default\":1,\"_id\":0}))\n",
      "# File Context\n",
      "contextres4 = list(db.fcontext.find({},{\"Path\":1 ,\"Domain\":1,\"Context\":1, \"Type\":1,\"_id\":0}))"
     ],
     "language": "python",
     "metadata": {},
     "outputs": [],
     "prompt_number": 14
    },
    {
     "cell_type": "heading",
     "level": 2,
     "metadata": {},
     "source": [
      "FTP and HTTP search"
     ]
    },
    {
     "cell_type": "code",
     "collapsed": false,
     "input": [
      "#GraphViz items\n",
      "link = \"->\"\n",
      "gvend = \";\""
     ],
     "language": "python",
     "metadata": {},
     "outputs": [],
     "prompt_number": 5
    },
    {
     "cell_type": "code",
     "collapsed": false,
     "input": [
      "#FTP Selection test1\n",
      "dsel = \"ftp\"\n",
      "svc_matches = [svc for svc in serviceres1 if dsel in str(svc['Domain'])]\n",
      "bol_matches = [bol for bol in boolres1 if dsel in str(bol['Domain'])]\n",
      "fc_matches = [fc for fc in contextres1 if dsel in str(fc['Domain'])]\n",
      "\n",
      "#FTP Selection test2\n",
      "svc_matches2 = [svc for svc in serviceres2 if dsel in str(svc['Domain'])]\n",
      "bol_matches2 = [bol for bol in boolres2 if dsel in str(bol['Domain'])]\n",
      "fc_matches2 = [fc for fc in contextres2 if dsel in str(fc['Domain'])]\n",
      "\n",
      "#FTP Selection test3\n",
      "svc_matches3 = [svc for svc in serviceres3 if dsel in str(svc['Domain'])]\n",
      "bol_matches3 = [bol for bol in boolres3 if dsel in str(bol['Domain'])]\n",
      "fc_matches3 = [fc for fc in contextres3 if dsel in str(fc['Domain'])]\n",
      "\n",
      "#FTP Selection test4\n",
      "svc_matches4 = [svc for svc in serviceres4 if dsel in str(svc['Domain'])]\n",
      "bol_matches4 = [bol for bol in boolres4 if dsel in str(bol['Domain'])]\n",
      "fc_matches4 = [fc for fc in contextres4 if dsel in str(fc['Domain'])]\n"
     ],
     "language": "python",
     "metadata": {},
     "outputs": [],
     "prompt_number": 15
    },
    {
     "cell_type": "heading",
     "level": 1,
     "metadata": {},
     "source": [
      "Manually Build results for GraphViz from the matches"
     ]
    },
    {
     "cell_type": "code",
     "collapsed": false,
     "input": [
      "bolarray = []\n",
      "for item in bol_matches:\n",
      "    Bol = item['Boolean']\n",
      "    Dom = item['Domain']\n",
      "    Ste = item['State']\n",
      "    pnode = \"\\\"\"+Dom+\"\\\"\"+link+\"\\\"\"+Bol+\"\\\"\"+Ste+\"\\\"\"+gvend\n",
      "    bolarray.append(pnode)\n",
      "    \n",
      "svcarray = []\n",
      "for item in svc_matches:\n",
      "    Svc = item['Service']\n",
      "    Dom = item['Domain']\n",
      "    snode = \"\\\"\"+Svc+\"\\\"\"+link+\"\\\"\"+Dom+\"\\\"\"+gvend\n",
      "    svcarray.append(snode)  \n",
      "\n",
      "    fcarray = []\n",
      "for item in fc_matches:\n",
      "    Pth = item['Path']\n",
      "    Dom = item['Domain']\n",
      "    snode = \"\\\"\"+Dom+\"\\\"\"+link+\"\\\"\"+Pth+\"\\\"\"+gvend\n",
      "    fcarray.append(snode)"
     ],
     "language": "python",
     "metadata": {},
     "outputs": [],
     "prompt_number": 7
    },
    {
     "cell_type": "code",
     "collapsed": false,
     "input": [
      "for i in svcarray:\n",
      "    print i"
     ],
     "language": "python",
     "metadata": {},
     "outputs": [
      {
       "output_type": "stream",
       "stream": "stdout",
       "text": [
        "\"vsftpd\"->\"ftpd_t\";\n"
       ]
      }
     ],
     "prompt_number": 8
    },
    {
     "cell_type": "code",
     "collapsed": false,
     "input": [
      "for i in bolarray:\n",
      "    print i"
     ],
     "language": "python",
     "metadata": {},
     "outputs": []
    },
    {
     "cell_type": "code",
     "collapsed": false,
     "input": [
      "for i in fcarray:\n",
      "    print i"
     ],
     "language": "python",
     "metadata": {},
     "outputs": []
    },
    {
     "cell_type": "heading",
     "level": 1,
     "metadata": {},
     "source": [
      "Graph Output"
     ]
    },
    {
     "cell_type": "markdown",
     "metadata": {},
     "source": [
      "http://matthiaseisen.com/articles/graphviz/"
     ]
    },
    {
     "cell_type": "heading",
     "level": 2,
     "metadata": {},
     "source": [
      "FTP Test 1"
     ]
    },
    {
     "cell_type": "code",
     "collapsed": false,
     "input": [
      "import graphviz as gv\n",
      "g1 = gv.Graph(format='svg')\n",
      "g1.body.extend(['rankdir=LR', 'size=\"8,5\"'])"
     ],
     "language": "python",
     "metadata": {},
     "outputs": [],
     "prompt_number": 9
    },
    {
     "cell_type": "code",
     "collapsed": false,
     "input": [
      "for item in svc_matches:\n",
      "    Svc = item['Service']\n",
      "    Dom = item['Domain']\n",
      "    g1.node(Svc)\n",
      "    g1.node(Dom)\n",
      "    g1.edge(Svc, Dom)\n",
      "    \n",
      "for item in bol_matches:\n",
      "    Bol = item['Boolean']\n",
      "    Dom = item['Domain']\n",
      "    Ste = item['State']\n",
      "    g1.node(Bol)\n",
      "    g1.node(Dom)\n",
      "    g1.edge(Dom, Bol, label=Ste)\n",
      "\n",
      "#for item in fc_matches:\n",
      "#    Pth = item['Path']\n",
      "#    Dom = item['Domain']\n",
      "#    g1.node(Pth)\n",
      "#    g1.node(Dom)\n",
      "#    g1.edge(Pth, Dom)"
     ],
     "language": "python",
     "metadata": {},
     "outputs": [],
     "prompt_number": 10
    },
    {
     "cell_type": "code",
     "collapsed": false,
     "input": [
      "g1.node('tftpd')\n",
      "g1.edge('tftpd', 'tftpd_t')"
     ],
     "language": "python",
     "metadata": {},
     "outputs": [],
     "prompt_number": 11
    },
    {
     "cell_type": "code",
     "collapsed": false,
     "input": [
      "print(g1.source)"
     ],
     "language": "python",
     "metadata": {},
     "outputs": []
    },
    {
     "cell_type": "code",
     "collapsed": false,
     "input": [
      "filename = g1.render(filename='ftpt1.gv')\n",
      "print filename"
     ],
     "language": "python",
     "metadata": {},
     "outputs": [
      {
       "output_type": "stream",
       "stream": "stdout",
       "text": [
        "ftpt1.gv.svg\n"
       ]
      }
     ],
     "prompt_number": 13
    },
    {
     "cell_type": "heading",
     "level": 2,
     "metadata": {},
     "source": [
      "FTP Test 2"
     ]
    },
    {
     "cell_type": "code",
     "collapsed": false,
     "input": [
      "import graphviz as gv\n",
      "g2 = gv.Graph(format='svg')\n",
      "g2.body.extend(['rankdir=LR', 'size=\"8,5\"'])"
     ],
     "language": "python",
     "metadata": {},
     "outputs": [],
     "prompt_number": 16
    },
    {
     "cell_type": "code",
     "collapsed": false,
     "input": [
      "for item in svc_matches2:\n",
      "    Svc = item['Service']\n",
      "    Dom = item['Domain']\n",
      "    g2.node(Svc)\n",
      "    g2.node(Dom)\n",
      "    g2.edge(Svc, Dom)\n",
      "\n",
      "for item in bol_matches2:\n",
      "    Bol = item['Boolean']\n",
      "    Dom = item['Domain']\n",
      "    Ste = item['State']\n",
      "    g2.node(Bol)\n",
      "    g2.node(Dom)\n",
      "    g2.edge(Dom, Bol, label=Ste)"
     ],
     "language": "python",
     "metadata": {},
     "outputs": [],
     "prompt_number": 18
    },
    {
     "cell_type": "code",
     "collapsed": false,
     "input": [
      "g2.node('tftpd')\n",
      "g2.edge('tftpd', 'tftpd_t')"
     ],
     "language": "python",
     "metadata": {},
     "outputs": [],
     "prompt_number": 19
    },
    {
     "cell_type": "code",
     "collapsed": false,
     "input": [
      "filename = g2.render(filename='ftpt2.gv')\n",
      "print filename"
     ],
     "language": "python",
     "metadata": {},
     "outputs": [
      {
       "output_type": "stream",
       "stream": "stdout",
       "text": [
        "ftpt2.gv.svg\n"
       ]
      }
     ],
     "prompt_number": 20
    },
    {
     "cell_type": "heading",
     "level": 2,
     "metadata": {},
     "source": [
      "FTP Test 3"
     ]
    },
    {
     "cell_type": "code",
     "collapsed": false,
     "input": [
      "g3 = gv.Graph(format='svg')\n",
      "g3.body.extend(['rankdir=LR', 'size=\"8,5\"'])"
     ],
     "language": "python",
     "metadata": {},
     "outputs": [],
     "prompt_number": 21
    },
    {
     "cell_type": "code",
     "collapsed": false,
     "input": [
      "for item in svc_matches3:\n",
      "    Svc = item['Service']\n",
      "    Dom = item['Domain']\n",
      "    g3.node(Svc)\n",
      "    g3.node(Dom)\n",
      "    g3.edge(Svc, Dom)\n",
      "\n",
      "for item in bol_matches3:\n",
      "    Bol = item['Boolean']\n",
      "    Dom = item['Domain']\n",
      "    Ste = item['State']\n",
      "    g3.node(Bol)\n",
      "    g3.node(Dom)\n",
      "    g3.edge(Dom, Bol, label=Ste)"
     ],
     "language": "python",
     "metadata": {},
     "outputs": [],
     "prompt_number": 22
    },
    {
     "cell_type": "code",
     "collapsed": false,
     "input": [
      "g3.node('tftpd')\n",
      "g3.edge('tftpd', 'tftpd_t')"
     ],
     "language": "python",
     "metadata": {},
     "outputs": [],
     "prompt_number": 23
    },
    {
     "cell_type": "code",
     "collapsed": false,
     "input": [
      "filename = g3.render(filename='ftpt3.gv')\n",
      "print filename"
     ],
     "language": "python",
     "metadata": {},
     "outputs": [
      {
       "output_type": "stream",
       "stream": "stdout",
       "text": [
        "ftpt3.gv.svg\n"
       ]
      }
     ],
     "prompt_number": 24
    },
    {
     "cell_type": "heading",
     "level": 2,
     "metadata": {},
     "source": [
      "FTP Test 4"
     ]
    },
    {
     "cell_type": "code",
     "collapsed": false,
     "input": [
      "g4 = gv.Graph(format='svg')\n",
      "g4.body.extend(['rankdir=LR', 'size=\"8,5\"'])"
     ],
     "language": "python",
     "metadata": {},
     "outputs": [],
     "prompt_number": 25
    },
    {
     "cell_type": "code",
     "collapsed": false,
     "input": [
      "for item in svc_matches4:\n",
      "    Svc = item['Service']\n",
      "    Dom = item['Domain']\n",
      "    g4.node(Svc)\n",
      "    g4.node(Dom)\n",
      "    g4.edge(Svc, Dom)\n",
      "\n",
      "for item in bol_matches4:\n",
      "    Bol = item['Boolean']\n",
      "    Dom = item['Domain']\n",
      "    Ste = item['State']\n",
      "    g4.node(Bol)\n",
      "    g4.node(Dom)\n",
      "    g4.edge(Dom, Bol, label=Ste)"
     ],
     "language": "python",
     "metadata": {},
     "outputs": [],
     "prompt_number": 26
    },
    {
     "cell_type": "code",
     "collapsed": false,
     "input": [
      "g4.node('tftpd')\n",
      "g4.edge('tftpd', 'tftpd_t')"
     ],
     "language": "python",
     "metadata": {},
     "outputs": [],
     "prompt_number": 27
    },
    {
     "cell_type": "code",
     "collapsed": false,
     "input": [
      "filename = g4.render(filename='ftpt4.gv')\n",
      "print filename"
     ],
     "language": "python",
     "metadata": {},
     "outputs": [
      {
       "output_type": "stream",
       "stream": "stdout",
       "text": [
        "ftpt4.gv.svg\n"
       ]
      }
     ],
     "prompt_number": 28
    },
    {
     "cell_type": "heading",
     "level": 2,
     "metadata": {},
     "source": [
      "HTTP Data Sets"
     ]
    },
    {
     "cell_type": "code",
     "collapsed": false,
     "input": [
      "#http Selection test 1\n",
      "dsel2 = \"http\"\n",
      "svc_matches5 = [svc for svc in serviceres1 if dsel2 in str(svc['Domain'])]\n",
      "bol_matches5 = [bol for bol in boolres1 if dsel2 in str(bol['Domain'])]\n",
      "fc_matches5 = [fc for fc in contextres1 if dsel2 in str(fc['Domain'])]\n",
      "\n",
      "# Test 2\n",
      "svc_matches6 = [svc for svc in serviceres2 if dsel2 in str(svc['Domain'])]\n",
      "bol_matches6 = [bol for bol in boolres2 if dsel2 in str(bol['Domain'])]\n",
      "fc_matches6 = [fc for fc in contextres2 if dsel2 in str(fc['Domain'])]\n",
      "\n",
      "# Test 3\n",
      "svc_matches7 = [svc for svc in serviceres3 if dsel2 in str(svc['Domain'])]\n",
      "bol_matches7 = [bol for bol in boolres3 if dsel2 in str(bol['Domain'])]\n",
      "fc_matches7 = [fc for fc in contextres3 if dsel2 in str(fc['Domain'])]\n",
      "\n",
      "# Test 4\n",
      "svc_matches8 = [svc for svc in serviceres4 if dsel2 in str(svc['Domain'])]\n",
      "bol_matches8 = [bol for bol in boolres4 if dsel2 in str(bol['Domain'])]\n",
      "fc_matches8 = [fc for fc in contextres4 if dsel2 in str(fc['Domain'])]"
     ],
     "language": "python",
     "metadata": {},
     "outputs": [],
     "prompt_number": 29
    },
    {
     "cell_type": "heading",
     "level": 2,
     "metadata": {},
     "source": [
      "HTTP Test 1"
     ]
    },
    {
     "cell_type": "code",
     "collapsed": false,
     "input": [
      "import graphviz as gv\n",
      "g5 = gv.Graph(format='svg')\n",
      "g5.body.extend(['rankdir=LR', 'size=\"8,5\"'])"
     ],
     "language": "python",
     "metadata": {},
     "outputs": [],
     "prompt_number": 30
    },
    {
     "cell_type": "code",
     "collapsed": false,
     "input": [
      "for item in svc_matches5:\n",
      "    Svc = item['Service']\n",
      "    Dom = item['Domain']\n",
      "    g5.node(Svc)\n",
      "    g5.node(Dom)\n",
      "    g5.edge(Svc, Dom)\n",
      "\n",
      "for item in bol_matches5:\n",
      "    Bol = item['Boolean']\n",
      "    Dom = item['Domain']\n",
      "    Ste = item['State']\n",
      "    g5.node(Bol)\n",
      "    g5.node(Dom)\n",
      "    g5.edge(Dom, Bol, label=Ste)"
     ],
     "language": "python",
     "metadata": {},
     "outputs": [],
     "prompt_number": 31
    },
    {
     "cell_type": "code",
     "collapsed": false,
     "input": [
      "filename = g5.render(filename='httpt1.gv')\n",
      "print filename"
     ],
     "language": "python",
     "metadata": {},
     "outputs": [
      {
       "output_type": "stream",
       "stream": "stdout",
       "text": [
        "httpt1.gv.svg\n"
       ]
      }
     ],
     "prompt_number": 32
    },
    {
     "cell_type": "heading",
     "level": 2,
     "metadata": {},
     "source": [
      "HTTP Test 2"
     ]
    },
    {
     "cell_type": "code",
     "collapsed": false,
     "input": [
      "g6 = gv.Graph(format='svg')\n",
      "g6.body.extend(['rankdir=LR', 'size=\"8,5\"'])\n",
      "\n",
      "for item in svc_matches6:\n",
      "    Svc = item['Service']\n",
      "    Dom = item['Domain']\n",
      "    g6.node(Svc)\n",
      "    g6.node(Dom)\n",
      "    g6.edge(Svc, Dom)\n",
      "\n",
      "for item in bol_matches6:\n",
      "    Bol = item['Boolean']\n",
      "    Dom = item['Domain']\n",
      "    Ste = item['State']\n",
      "    g6.node(Bol)\n",
      "    g6.node(Dom)\n",
      "    g6.edge(Dom, Bol, label=Ste)\n",
      "\n",
      "filename = g6.render(filename='httpt2.gv')\n",
      "print filename"
     ],
     "language": "python",
     "metadata": {},
     "outputs": [
      {
       "output_type": "stream",
       "stream": "stdout",
       "text": [
        "httpt2.gv.svg\n"
       ]
      }
     ],
     "prompt_number": 33
    },
    {
     "cell_type": "heading",
     "level": 1,
     "metadata": {},
     "source": [
      "HTTP Test 3"
     ]
    },
    {
     "cell_type": "code",
     "collapsed": false,
     "input": [
      "g7 = gv.Graph(format='svg')\n",
      "g7.body.extend(['rankdir=LR', 'size=\"8,5\"'])\n",
      "\n",
      "for item in svc_matches7:\n",
      "    Svc = item['Service']\n",
      "    Dom = item['Domain']\n",
      "    g7.node(Svc)\n",
      "    g7.node(Dom)\n",
      "    g7.edge(Svc, Dom)\n",
      "\n",
      "for item in bol_matches7:\n",
      "    Bol = item['Boolean']\n",
      "    Dom = item['Domain']\n",
      "    Ste = item['State']\n",
      "    g7.node(Bol)\n",
      "    g7.node(Dom)\n",
      "    g7.edge(Dom, Bol, label=Ste)\n",
      "\n",
      "filename = g7.render(filename='httpt3.gv')\n",
      "print filename"
     ],
     "language": "python",
     "metadata": {},
     "outputs": [
      {
       "output_type": "stream",
       "stream": "stdout",
       "text": [
        "httpt3.gv.svg\n"
       ]
      }
     ],
     "prompt_number": 35
    },
    {
     "cell_type": "heading",
     "level": 2,
     "metadata": {},
     "source": [
      "HTTP Test 4"
     ]
    },
    {
     "cell_type": "code",
     "collapsed": false,
     "input": [
      "g8 = gv.Graph(format='svg')\n",
      "g8.body.extend(['rankdir=LR', 'size=\"8,5\"'])\n",
      "\n",
      "for item in svc_matches8:\n",
      "    Svc = item['Service']\n",
      "    Dom = item['Domain']\n",
      "    g8.node(Svc)\n",
      "    g8.node(Dom)\n",
      "    g8.edge(Svc, Dom)\n",
      "\n",
      "for item in bol_matches8:\n",
      "    Bol = item['Boolean']\n",
      "    Dom = item['Domain']\n",
      "    Ste = item['State']\n",
      "    g8.node(Bol)\n",
      "    g8.node(Dom)\n",
      "    g8.edge(Dom, Bol, label=Ste)\n",
      "\n",
      "filename = g8.render(filename='httpt4.gv')\n",
      "print filename"
     ],
     "language": "python",
     "metadata": {},
     "outputs": [
      {
       "output_type": "stream",
       "stream": "stdout",
       "text": [
        "httpt4.gv.svg\n"
       ]
      }
     ],
     "prompt_number": 36
    },
    {
     "cell_type": "code",
     "collapsed": false,
     "input": [
      "ls -l"
     ],
     "language": "python",
     "metadata": {},
     "outputs": [
      {
       "output_type": "stream",
       "stream": "stdout",
       "text": [
        "total 616\r\n",
        "-rw-r--r--  1 mike  staff  61383 May 19 20:18 SII-visual.ipynb\r\n",
        "-rw-r--r--  1 mike  staff   1119 May 19 12:38 ftp1.gv\r\n",
        "-rw-r--r--@ 1 mike  staff  16348 May 19 12:38 ftp1.gv.pdf\r\n",
        "-rw-r--r--  1 mike  staff   1127 May 19 12:41 ftp2.gv\r\n",
        "-rw-r--r--  1 mike  staff  15829 May 19 12:41 ftp2.gv.pdf\r\n",
        "-rw-r--r--  1 mike  staff   1133 May 19 19:48 ftpt1.gv\r\n",
        "-rw-r--r--  1 mike  staff  11844 May 19 19:48 ftpt1.gv.svg\r\n",
        "-rw-r--r--  1 mike  staff   1143 May 19 20:06 ftpt2.gv\r\n",
        "-rw-r--r--  1 mike  staff  11963 May 19 20:06 ftpt2.gv.svg\r\n",
        "-rw-r--r--  1 mike  staff   1143 May 19 20:06 ftpt3.gv\r\n",
        "-rw-r--r--  1 mike  staff  11963 May 19 20:06 ftpt3.gv.svg\r\n",
        "-rw-r--r--  1 mike  staff   1142 May 19 20:06 ftpt4.gv\r\n",
        "-rw-r--r--  1 mike  staff  11962 May 19 20:06 ftpt4.gv.svg\r\n",
        "-rw-r--r--  1 mike  staff   3387 May 19 20:13 httpt1.gv\r\n",
        "-rw-r--r--  1 mike  staff  30036 May 19 20:13 httpt1.gv.svg\r\n",
        "-rw-r--r--  1 mike  staff   3382 May 19 20:16 httpt2.gv\r\n",
        "-rw-r--r--  1 mike  staff  31283 May 19 20:16 httpt2.gv.svg\r\n",
        "-rw-r--r--  1 mike  staff   3382 May 19 20:19 httpt3.gv\r\n",
        "-rw-r--r--  1 mike  staff  31283 May 19 20:19 httpt3.gv.svg\r\n",
        "-rw-r--r--  1 mike  staff   3381 May 19 20:20 httpt4.gv\r\n",
        "-rw-r--r--  1 mike  staff  31282 May 19 20:20 httpt4.gv.svg\r\n"
       ]
      }
     ],
     "prompt_number": 37
    },
    {
     "cell_type": "heading",
     "level": 1,
     "metadata": {},
     "source": [
      "Diagraph for FTP test 2"
     ]
    },
    {
     "cell_type": "code",
     "collapsed": false,
     "input": [
      "from graphviz import Digraph"
     ],
     "language": "python",
     "metadata": {},
     "outputs": [],
     "prompt_number": 18
    },
    {
     "cell_type": "code",
     "collapsed": false,
     "input": [
      "f2 = Digraph('ftp_test2', filename='ftp2.gv')\n",
      "f2.body.extend(['rankdir=LR', 'size=\"8,5\"'])"
     ],
     "language": "python",
     "metadata": {},
     "outputs": [],
     "prompt_number": 42
    },
    {
     "cell_type": "code",
     "collapsed": false,
     "input": [
      "for item in svc_matchest2:\n",
      "    Svc = item['Service']\n",
      "    Dom = item['Domain']\n",
      "    f2.node(Svc)\n",
      "    f2.node(Dom)\n",
      "    f2.edge(Svc, Dom)\n",
      "\n",
      "for item in bol_matchest2:\n",
      "    Bol = item['Boolean']\n",
      "    Dom = item['Domain']\n",
      "    Ste = item['State']\n",
      "    f2.node(Bol)\n",
      "    f2.node(Dom)\n",
      "    f2.edge(Dom, Bol, Label=Ste)   "
     ],
     "language": "python",
     "metadata": {},
     "outputs": [],
     "prompt_number": 43
    },
    {
     "cell_type": "code",
     "collapsed": false,
     "input": [
      "f2.view()"
     ],
     "language": "python",
     "metadata": {},
     "outputs": [],
     "prompt_number": 44
    },
    {
     "cell_type": "code",
     "collapsed": false,
     "input": [],
     "language": "python",
     "metadata": {},
     "outputs": []
    },
    {
     "cell_type": "heading",
     "level": 1,
     "metadata": {},
     "source": [
      "Finite Automaton Graph of Service and Booleans"
     ]
    },
    {
     "cell_type": "markdown",
     "metadata": {},
     "source": [
      "http://www.graphviz.org/content/fsm"
     ]
    },
    {
     "cell_type": "heading",
     "level": 2,
     "metadata": {},
     "source": [
      "FSM for SELinux ftp config"
     ]
    },
    {
     "cell_type": "code",
     "collapsed": false,
     "input": [
      "from graphviz import Digraph"
     ],
     "language": "python",
     "metadata": {},
     "outputs": [],
     "prompt_number": 23
    },
    {
     "cell_type": "code",
     "collapsed": false,
     "input": [
      "f = Digraph('ftp_test1', filename='ftp1.gv')\n",
      "f.body.extend(['rankdir=LR', 'size=\"8,5\"'])"
     ],
     "language": "python",
     "metadata": {},
     "outputs": [],
     "prompt_number": 24
    },
    {
     "cell_type": "code",
     "collapsed": false,
     "input": [
      "for item in svc_matches:\n",
      "    Svc = item['Service']\n",
      "    Dom = item['Domain']\n",
      "    f.node(Svc)\n",
      "    f.node(Dom)\n",
      "    f.edge(Svc, Dom)\n",
      "\n",
      "for item in bol_matches:\n",
      "    Bol = item['Boolean']\n",
      "    Dom = item['Domain']\n",
      "    Ste = item['State']\n",
      "    f.node(Bol)\n",
      "    f.node(Dom)\n",
      "    f.edge(Dom, Bol, Label=Ste)   "
     ],
     "language": "python",
     "metadata": {},
     "outputs": [],
     "prompt_number": 25
    },
    {
     "cell_type": "code",
     "collapsed": false,
     "input": [
      "f.view()"
     ],
     "language": "python",
     "metadata": {},
     "outputs": [],
     "prompt_number": 31
    },
    {
     "cell_type": "code",
     "collapsed": false,
     "input": [
      "ls -l"
     ],
     "language": "python",
     "metadata": {},
     "outputs": [
      {
       "output_type": "stream",
       "stream": "stdout",
       "text": [
        "total 160\r\n",
        "-rw-r--r--  1 mike  staff  57617 May 19 12:36 SII-visual.ipynb\r\n",
        "-rw-r--r--  1 mike  staff   1119 May 19 12:38 ftp1.gv\r\n",
        "-rw-r--r--  1 mike  staff  16348 May 19 12:38 ftp1.gv.pdf\r\n"
       ]
      }
     ],
     "prompt_number": 32
    },
    {
     "cell_type": "code",
     "collapsed": false,
     "input": [
      "print(f.source)"
     ],
     "language": "python",
     "metadata": {},
     "outputs": [
      {
       "output_type": "stream",
       "stream": "stdout",
       "text": [
        "// None\n",
        "digraph ftp_test1 {\n",
        "rankdir=LR\n",
        "size=\"8,5\"\n",
        "\tvsftpd\n",
        "\tftpd_t\n",
        "\t\tvsftpd -> ftpd_t\n",
        "\tftp_home_dir\n",
        "\tftpd_t\n",
        "\t\tftpd_t -> ftp_home_dir [Label=off]\n",
        "\tftpd_use_cifs\n",
        "\tftpd_t\n",
        "\t\tftpd_t -> ftpd_use_cifs [Label=off]\n",
        "\tftpd_use_fusefs\n",
        "\tftpd_t\n",
        "\t\tftpd_t -> ftpd_use_fusefs [Label=off]\n",
        "\tftpd_connect_db\n",
        "\tftpd_t\n",
        "\t\tftpd_t -> ftpd_connect_db [Label=off]\n",
        "\tftpd_full_access\n",
        "\tftpd_t\n",
        "\t\tftpd_t -> ftpd_full_access [Label=off]\n",
        "\ttftp_home_dir\n",
        "\ttftpd_t\n",
        "\t\ttftpd_t -> tftp_home_dir [Label=off]\n",
        "\tsftpd_enable_homedirs\n",
        "\tsftpd_t\n",
        "\t\tsftpd_t -> sftpd_enable_homedirs [Label=off]\n",
        "\tftpd_use_passive_mode\n",
        "\tftpd_t\n",
        "\t\tftpd_t -> ftpd_use_passive_mode [Label=off]\n",
        "\tsftpd_write_ssh_home\n",
        "\tsftpd_t\n",
        "\t\tsftpd_t -> sftpd_write_ssh_home [Label=off]\n",
        "\tftpd_use_nfs\n",
        "\tftpd_t\n",
        "\t\tftpd_t -> ftpd_use_nfs [Label=off]\n",
        "\tftpd_connect_all_unreserved\n",
        "\tftpd_t\n",
        "\t\tftpd_t -> ftpd_connect_all_unreserved [Label=off]\n",
        "\tsftpd_full_access\n",
        "\tsftpd_t\n",
        "\t\tsftpd_t -> sftpd_full_access [Label=off]\n",
        "\ttftp_anon_write\n",
        "\ttftpd_t\n",
        "\t\ttftpd_t -> tftp_anon_write [Label=off]\n",
        "\tftpd_anon_write\n",
        "\tftpd_t\n",
        "\t\tftpd_t -> ftpd_anon_write [Label=off]\n",
        "\tsftpd_anon_write\n",
        "\tsftpd_t\n",
        "\t\tsftpd_t -> sftpd_anon_write [Label=off]\n",
        "}\n"
       ]
      }
     ],
     "prompt_number": 30
    },
    {
     "cell_type": "heading",
     "level": 1,
     "metadata": {},
     "source": [
      "HTTP Search"
     ]
    },
    {
     "cell_type": "heading",
     "level": 2,
     "metadata": {},
     "source": [
      "FSM for SELinux http config"
     ]
    },
    {
     "cell_type": "code",
     "collapsed": false,
     "input": [
      "#http Selection test 1\n",
      "dsel2 = \"http\"\n",
      "svc_matches3 = [svc for svc in serviceres1 if dsel2 in str(svc['Domain'])]\n",
      "bol_matches3 = [bol for bol in boolres1 if dsel2 in str(bol['Domain'])]\n",
      "fc_matches3 = [fc for fc in contextres1 if dsel2 in str(fc['Domain'])]"
     ],
     "language": "python",
     "metadata": {},
     "outputs": [],
     "prompt_number": 39
    },
    {
     "cell_type": "code",
     "collapsed": false,
     "input": [
      "#http Selection test 2\n",
      "svc_matches4 = [svc for svc in serviceres2 if dsel2 in str(svc['Domain'])]\n",
      "bol_matches4 = [bol for bol in boolres2 if dsel2 in str(bol['Domain'])]\n",
      "fc_matches4 = [fc for fc in contextres2 if dsel2 in str(fc['Domain'])]"
     ],
     "language": "python",
     "metadata": {},
     "outputs": [],
     "prompt_number": 40
    },
    {
     "cell_type": "code",
     "collapsed": false,
     "input": [
      "bolarray2 = []\n",
      "for item in bol_matches3:\n",
      "    Bol = item['Boolean']\n",
      "    Dom = item['Domain']\n",
      "    pnode = \"\\\"\"+Dom+\"\\\"\"+link+\"\\\"\"+Bol+\"\\\"\"+gvend\n",
      "    bolarray2.append(pnode)\n",
      "svcarray2 = []\n",
      "for item in svc_matches3:\n",
      "    Svc = item['Service']\n",
      "    Dom = item['Domain']\n",
      "    snode = \"\\\"\"+Svc+\"\\\"\"+link+\"\\\"\"+Dom+\"\\\"\"+gvend\n",
      "    svcarray2.append(snode)\n",
      "fcarray2 = []\n",
      "for item in fc_matches3:\n",
      "    Pth = item['Path']\n",
      "    Dom = item['Domain']\n",
      "    snode = \"\\\"\"+Dom+\"\\\"\"+link+\"\\\"\"+Pth+\"\\\"\"+gvend\n",
      "    fcarray2.append(snode)"
     ],
     "language": "python",
     "metadata": {},
     "outputs": [],
     "prompt_number": 41
    },
    {
     "cell_type": "code",
     "collapsed": false,
     "input": [
      "for i in svcarray2:\n",
      "    print i"
     ],
     "language": "python",
     "metadata": {},
     "outputs": [
      {
       "output_type": "stream",
       "stream": "stdout",
       "text": [
        "\"httpd\"->\"httpd_t\";\n"
       ]
      }
     ],
     "prompt_number": 42
    },
    {
     "cell_type": "code",
     "collapsed": false,
     "input": [
      "for i in bolarray2:\n",
      "    print i"
     ],
     "language": "python",
     "metadata": {},
     "outputs": [
      {
       "output_type": "stream",
       "stream": "stdout",
       "text": [
        "\"httpd_t\"->\"httpd_can_network_relay\";\n",
        "\"httpd_t\"->\"httpd_can_connect_mythtv\";\n",
        "\"httpd_suexec_t\"->\"httpd_can_network_connect_db\";\n",
        "\"httpd_t\"->\"httpd_use_gpg\";\n",
        "\"httpd_t\"->\"httpd_dbus_sssd\";\n",
        "\"httpd_suexec_t\"->\"httpd_enable_cgi\";\n",
        "\"httpd_t\"->\"httpd_verify_dns\";\n",
        "\"httpd_git_script_t\"->\"git_cgi_enable_homedirs\";\n",
        "\"httpd_t\"->\"httpd_anon_write\";\n",
        "\"httpd_suexec_t\"->\"httpd_use_cifs\";\n",
        "\"httpd_suexec_t\"->\"httpd_enable_homedirs\";\n",
        "\"httpd_sys_script_t\"->\"httpd_unified\";\n",
        "\"httpd_t\"->\"httpd_run_stickshift\";\n",
        "\"httpd_suexec_t\"->\"httpd_use_fusefs\";\n",
        "\"httpd_t\"->\"httpd_can_connect_ldap\";\n",
        "\"httpd_t\"->\"httpd_can_network_connect\";\n",
        "\"httpd_t\"->\"httpd_use_sasl\";\n",
        "\"httpd_suexec_t\"->\"httpd_tty_comm\";\n",
        "\"httpd_sys_script_t\"->\"httpd_sys_script_anon_write\";\n",
        "\"httpd_git_script_t\"->\"git_cgi_use_nfs\";\n",
        "\"httpd_t\"->\"httpd_graceful_shutdown\";\n",
        "\"httpd_t\"->\"httpd_can_connect_ftp\";\n",
        "\"httpd_sys_script_t\"->\"httpd_read_user_content\";\n",
        "\"httpd_suexec_t\"->\"httpd_use_nfs\";\n",
        "\"httpd_t\"->\"httpd_can_connect_zabbix\";\n",
        "\"httpd_sys_script_t\"->\"httpd_tmp_exec\";\n",
        "\"httpd_t\"->\"httpd_manage_ipa\";\n",
        "\"httpd_t\"->\"httpd_can_sendmail\";\n",
        "\"httpd_t\"->\"httpd_builtin_scripting\";\n",
        "\"httpd_t\"->\"httpd_dbus_avahi\";\n",
        "\"httpd_t\"->\"httpd_can_check_spam\";\n",
        "\"httpd_t\"->\"httpd_can_network_memcache\";\n",
        "\"httpd_t\"->\"httpd_can_network_connect_cobbler\";\n",
        "\"httpd_t\"->\"httpd_serve_cobbler_files\";\n",
        "\"httpd_git_script_t\"->\"git_cgi_use_cifs\";\n",
        "\"httpd_sys_script_t\"->\"httpd_execmem\";\n",
        "\"httpd_t\"->\"httpd_ssi_exec\";\n",
        "\"httpd_sys_script_t\"->\"httpd_use_openstack\";\n",
        "\"httpd_t\"->\"httpd_enable_ftp_server\";\n",
        "\"httpd_t\"->\"httpd_setrlimit\";\n"
       ]
      }
     ],
     "prompt_number": 43
    },
    {
     "cell_type": "code",
     "collapsed": false,
     "input": [
      "for i in fcarray2:\n",
      "    print i"
     ],
     "language": "python",
     "metadata": {},
     "outputs": []
    },
    {
     "cell_type": "heading",
     "level": 1,
     "metadata": {},
     "source": [
      "HTTP in FSM Graph"
     ]
    },
    {
     "cell_type": "code",
     "collapsed": false,
     "input": [
      "f3 = Digraph('http_test1', filename='httpt1.gv')\n",
      "f3.body.extend(['rankdir=LR', 'size=\"8,5\"'])"
     ],
     "language": "python",
     "metadata": {},
     "outputs": [],
     "prompt_number": 65
    },
    {
     "cell_type": "code",
     "collapsed": false,
     "input": [
      "for item in svc_matches2:\n",
      "    Svc = item['Service']\n",
      "    Dom = item['Domain']\n",
      "    f3.node(Svc)\n",
      "    f3.node(Dom)\n",
      "    f3.edge(Svc, Dom)\n",
      "\n",
      "for item in bol_matches2:\n",
      "    Bol = item['Boolean']\n",
      "    Dom = item['Domain']\n",
      "    f3.node(Bol)\n",
      "    f3.node(Dom)\n",
      "    f3.edge(Dom, Bol)  "
     ],
     "language": "python",
     "metadata": {},
     "outputs": [],
     "prompt_number": 66
    },
    {
     "cell_type": "code",
     "collapsed": false,
     "input": [
      "f3.view()"
     ],
     "language": "python",
     "metadata": {},
     "outputs": [],
     "prompt_number": 67
    },
    {
     "cell_type": "code",
     "collapsed": false,
     "input": [
      "f4 = Digraph('http_test2', filename='httpt2.gv')\n",
      "f4.body.extend(['rankdir=LR', 'size=\"8,5\"'])"
     ],
     "language": "python",
     "metadata": {},
     "outputs": [],
     "prompt_number": 49
    },
    {
     "cell_type": "code",
     "collapsed": false,
     "input": [
      "for item in svc_matches4:\n",
      "    Svc = item['Service']\n",
      "    Dom = item['Domain']\n",
      "    f4.node(Svc)\n",
      "    f4.node(Dom)\n",
      "    f4.edge(Svc, Dom)\n",
      "\n",
      "for item in bol_matches4:\n",
      "    Bol = item['Boolean']\n",
      "    Dom = item['Domain']\n",
      "    f4.node(Bol)\n",
      "    f4.node(Dom)\n",
      "    f4.edge(Dom, Bol)  "
     ],
     "language": "python",
     "metadata": {},
     "outputs": [],
     "prompt_number": 50
    },
    {
     "cell_type": "code",
     "collapsed": false,
     "input": [
      "f4.view()"
     ],
     "language": "python",
     "metadata": {},
     "outputs": [],
     "prompt_number": 51
    },
    {
     "cell_type": "code",
     "collapsed": false,
     "input": [
      "ls -l"
     ],
     "language": "python",
     "metadata": {},
     "outputs": [
      {
       "output_type": "stream",
       "stream": "stdout",
       "text": [
        "total 232\r\n",
        "-rw-r--r--  1 mike  staff  47382 May 17 16:08 SII-visual.ipynb\r\n",
        "-rw-r--r--  1 mike  staff    939 May 17 15:58 ftp1.gv\r\n",
        "-rw-r--r--  1 mike  staff  16356 May 17 15:58 ftp1.gv.pdf\r\n",
        "-rw-r--r--  1 mike  staff    949 May 17 16:08 ftp2.gv\r\n",
        "-rw-r--r--  1 mike  staff  16343 May 17 16:08 ftp2.gv.pdf\r\n",
        "-rw-r--r--  1 mike  staff   2906 May 17 16:08 httpt2.gv\r\n",
        "-rw-r--r--  1 mike  staff  24389 May 17 16:08 httpt2.gv.pdf\r\n"
       ]
      }
     ],
     "prompt_number": 52
    },
    {
     "cell_type": "heading",
     "level": 1,
     "metadata": {},
     "source": [
      "HTTP all three SII areas"
     ]
    },
    {
     "cell_type": "code",
     "collapsed": false,
     "input": [
      "f5 = Digraph('http_test1_Full', filename='http_t1_full.gv')\n",
      "f5.body.extend(['rankdir=LR', 'size=\"8,5\"'])"
     ],
     "language": "python",
     "metadata": {},
     "outputs": [],
     "prompt_number": 62
    },
    {
     "cell_type": "code",
     "collapsed": false,
     "input": [
      "for item in svc_matches2:\n",
      "    Svc = item['Service']\n",
      "    Dom = item['Domain']\n",
      "    f5.node(Svc)\n",
      "    f5.node(Dom)\n",
      "    f5.edge(Svc, Dom)\n",
      "\n",
      "for item in bol_matches2:\n",
      "    Bol = item['Boolean']\n",
      "    Dom = item['Domain']\n",
      "    f5.node(Bol)\n",
      "    f5.node(Dom)\n",
      "    f5.edge(Dom, Bol)  \n",
      "\n",
      "for item in fc_matches2:\n",
      "    Pth = item['Path']\n",
      "    Dom = item['Domain']\n",
      "    f5.node(Pth)\n",
      "    f5.node(Dom)\n",
      "    f5.edge(Dom, Pth)"
     ],
     "language": "python",
     "metadata": {},
     "outputs": [],
     "prompt_number": 63
    },
    {
     "cell_type": "code",
     "collapsed": false,
     "input": [
      "f5.view()"
     ],
     "language": "python",
     "metadata": {},
     "outputs": [],
     "prompt_number": 64
    },
    {
     "cell_type": "heading",
     "level": 1,
     "metadata": {},
     "source": [
      "FTP Test 1 All Three Areas"
     ]
    },
    {
     "cell_type": "code",
     "collapsed": false,
     "input": [
      "f6 = Digraph('ftp_test1_full', filename='ftpt1_full.gv')\n",
      "f6.body.extend(['rankdir=LR', 'size=\"8,5\"'])"
     ],
     "language": "python",
     "metadata": {},
     "outputs": [],
     "prompt_number": 69
    },
    {
     "cell_type": "code",
     "collapsed": false,
     "input": [
      "for item in svc_matches:\n",
      "    Svc = item['Service']\n",
      "    Dom = item['Domain']\n",
      "    f6.node(Svc)\n",
      "    f6.node(Dom)\n",
      "    f6.edge(Svc, Dom)\n",
      "\n",
      "for item in bol_matches:\n",
      "    Bol = item['Boolean']\n",
      "    Dom = item['Domain']\n",
      "    f6.node(Bol)\n",
      "    f6.node(Dom)\n",
      "    f6.edge(Dom, Bol)   \n",
      "\n",
      "for item in fc_matches:\n",
      "    Pth = item['Path']\n",
      "    Dom = item['Domain']\n",
      "    f6.node(Pth)\n",
      "    f6.node(Dom)\n",
      "    f6.edge(Dom, Pth)"
     ],
     "language": "python",
     "metadata": {},
     "outputs": [],
     "prompt_number": 70
    },
    {
     "cell_type": "code",
     "collapsed": false,
     "input": [
      "f6.view()"
     ],
     "language": "python",
     "metadata": {},
     "outputs": [],
     "prompt_number": 71
    },
    {
     "cell_type": "code",
     "collapsed": false,
     "input": [
      "ls -l "
     ],
     "language": "python",
     "metadata": {},
     "outputs": [
      {
       "output_type": "stream",
       "stream": "stdout",
       "text": [
        "total 512\r\n",
        "-rw-r--r--  1 mike  staff  45192 May 19 20:22 SII-visual.ipynb\r\n",
        "-rw-r--r--  1 mike  staff   1133 May 19 19:48 ftpt1.gv\r\n",
        "-rw-r--r--  1 mike  staff  11844 May 19 19:48 ftpt1.gv.svg\r\n",
        "-rw-r--r--  1 mike  staff   1143 May 19 20:06 ftpt2.gv\r\n",
        "-rw-r--r--  1 mike  staff  11963 May 19 20:06 ftpt2.gv.svg\r\n",
        "-rw-r--r--  1 mike  staff   1143 May 19 20:06 ftpt3.gv\r\n",
        "-rw-r--r--  1 mike  staff  11963 May 19 20:06 ftpt3.gv.svg\r\n",
        "-rw-r--r--  1 mike  staff   1142 May 19 20:06 ftpt4.gv\r\n",
        "-rw-r--r--  1 mike  staff  11962 May 19 20:06 ftpt4.gv.svg\r\n",
        "-rw-r--r--  1 mike  staff   3387 May 19 20:13 httpt1.gv\r\n",
        "-rw-r--r--  1 mike  staff  30036 May 19 20:13 httpt1.gv.svg\r\n",
        "-rw-r--r--  1 mike  staff   3382 May 19 20:16 httpt2.gv\r\n",
        "-rw-r--r--  1 mike  staff  31283 May 19 20:16 httpt2.gv.svg\r\n",
        "-rw-r--r--  1 mike  staff   3382 May 19 20:19 httpt3.gv\r\n",
        "-rw-r--r--  1 mike  staff  31283 May 19 20:19 httpt3.gv.svg\r\n",
        "-rw-r--r--  1 mike  staff   3381 May 19 20:20 httpt4.gv\r\n",
        "-rw-r--r--  1 mike  staff  31282 May 19 20:20 httpt4.gv.svg\r\n"
       ]
      }
     ],
     "prompt_number": 38
    },
    {
     "cell_type": "code",
     "collapsed": false,
     "input": [],
     "language": "python",
     "metadata": {},
     "outputs": []
    }
   ],
   "metadata": {}
  }
 ]
}