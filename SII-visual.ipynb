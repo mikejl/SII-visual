{
 "metadata": {
  "name": "",
  "signature": "sha256:b9a7da79b47b6f98c2aa2df1bb89a67c2f31fbe38d4e6598e42effe3cfd5e28c"
 },
 "nbformat": 3,
 "nbformat_minor": 0,
 "worksheets": [
  {
   "cells": [
    {
     "cell_type": "markdown",
     "metadata": {},
     "source": [
      "#Dendrogram in python"
     ]
    },
    {
     "cell_type": "markdown",
     "metadata": {},
     "source": [
      "Links:  \n",
      "http://docs.scipy.org/doc/scipy/reference/generated/scipy.cluster.hierarchy.dendrogram.html\n",
      "http://en.wikipedia.org/wiki/Python_syntax_and_semantics"
     ]
    },
    {
     "cell_type": "heading",
     "level": 1,
     "metadata": {},
     "source": [
      "GraphViz"
     ]
    },
    {
     "cell_type": "markdown",
     "metadata": {},
     "source": [
      "https://pypi.python.org/pypi/graphviz"
     ]
    },
    {
     "cell_type": "heading",
     "level": 1,
     "metadata": {},
     "source": [
      "sympy dotprint for GraphViz"
     ]
    },
    {
     "cell_type": "markdown",
     "metadata": {},
     "source": [
      "http://docs.sympy.org/dev/modules/printing.html?highlight=dotprint#sympy.printing.dot.dotprint"
     ]
    },
    {
     "cell_type": "code",
     "collapsed": false,
     "input": [
      "#from sympy.printing.dot import dotprint"
     ],
     "language": "python",
     "metadata": {},
     "outputs": []
    },
    {
     "cell_type": "code",
     "collapsed": false,
     "input": [
      "#dot.render('out.gv', view=True)"
     ],
     "language": "python",
     "metadata": {},
     "outputs": []
    },
    {
     "cell_type": "heading",
     "level": 1,
     "metadata": {},
     "source": [
      "Visual GraphViz in iPython Notebook"
     ]
    },
    {
     "cell_type": "markdown",
     "metadata": {},
     "source": [
      "http://nbviewer.ipython.org/gist/deeplook/4770302\n",
      "\n",
      "https://github.com/tkf/ipython-hierarchymagic\n",
      "\n",
      "https://github.com/ipython/ipython/wiki/Extensions-Index\n",
      "\n",
      "http://sphinx-doc.org/index.html\n",
      "\n",
      "http://graphviz.readthedocs.org/en/stable/examples.html"
     ]
    },
    {
     "cell_type": "code",
     "collapsed": false,
     "input": [
      "%install_ext https://raw.github.com/tkf/ipython-hierarchymagic/master/hierarchymagic.py\n",
      "%load_ext hierarchymagic"
     ],
     "language": "python",
     "metadata": {},
     "outputs": [
      {
       "output_type": "stream",
       "stream": "stdout",
       "text": [
        "Installed hierarchymagic.py. To use it, type:\n",
        "  %load_ext hierarchymagic\n"
       ]
      }
     ],
     "prompt_number": 1
    },
    {
     "cell_type": "code",
     "collapsed": false,
     "input": [
      "from graphviz import Digraph\n",
      "from sympy.printing.dot import dotprint"
     ],
     "language": "python",
     "metadata": {},
     "outputs": [],
     "prompt_number": 2
    },
    {
     "cell_type": "heading",
     "level": 1,
     "metadata": {},
     "source": [
      "Main Data Sets from Mongo"
     ]
    },
    {
     "cell_type": "code",
     "collapsed": false,
     "input": [
      "from matplotlib.pyplot import show\n",
      "from scipy.spatial.distance import pdist\n",
      "from scipy.cluster.hierarchy import linkage, dendrogram\n",
      "from numpy.random import rand\n",
      "\n",
      "import pymongo\n",
      "import json\n",
      "import datetime\n",
      "import subprocess\n",
      "from pymongo import MongoClient\n",
      "from subprocess import call\n",
      "from tabulate import tabulate\n",
      "import sys"
     ],
     "language": "python",
     "metadata": {},
     "outputs": [],
     "prompt_number": 3
    },
    {
     "cell_type": "code",
     "collapsed": false,
     "input": [
      "# Main Data sets\n",
      "#Test 1\n",
      "client = MongoClient('localhost', 27017)\n",
      "db = client.cent1t1\n",
      "# Service    \n",
      "serviceres1 = list(db.service.find({},{\"Sys\": 1,\"Service\":1 ,\"Domain\":1,\"Context\":1,\"_id\":0}))\n",
      "# Poicy\n",
      "boolres1 = list(db.booleans.find({},{\"Boolean\":1 ,\"Domain\":1,\"State\":1, \"Default\":1,\"_id\":0}))\n",
      "# File Context\n",
      "contextres1 = list(db.fcontext.find({},{\"Path\":1 ,\"Domain\":1,\"Context\":1, \"Type\":1,\"_id\":0}))\n",
      "\n",
      "#Test 2\n",
      "client = MongoClient('localhost', 27017)\n",
      "db = client.cent1t2\n",
      "# Service    \n",
      "serviceres2 = list(db.service.find({},{\"Sys\":1, \"Service\":1 ,\"Domain\":1,\"Context\":1,\"_id\":0}))\n",
      "# Poicy\n",
      "boolres2 = list(db.booleans.find({},{\"Boolean\":1 ,\"Domain\":1,\"State\":1, \"Default\":1,\"_id\":0}))\n",
      "# File Context\n",
      "contextres2 = list(db.fcontext.find({},{\"Path\":1 ,\"Domain\":1,\"Context\":1, \"Type\":1,\"_id\":0}))\n"
     ],
     "language": "python",
     "metadata": {},
     "outputs": [],
     "prompt_number": 4
    },
    {
     "cell_type": "heading",
     "level": 2,
     "metadata": {},
     "source": [
      "FTP and HTTP search"
     ]
    },
    {
     "cell_type": "code",
     "collapsed": false,
     "input": [
      "#GraphViz items\n",
      "link = \"->\"\n",
      "gvend = \";\""
     ],
     "language": "python",
     "metadata": {},
     "outputs": [],
     "prompt_number": 5
    },
    {
     "cell_type": "code",
     "collapsed": false,
     "input": [
      "#FTP Selection test1\n",
      "dsel = \"ftp\"\n",
      "svc_matches = [svc for svc in serviceres1 if dsel in str(svc['Domain'])]\n",
      "bol_matches = [bol for bol in boolres1 if dsel in str(bol['Domain'])]\n",
      "fc_matches = [fc for fc in contextres1 if dsel in str(fc['Domain'])]\n"
     ],
     "language": "python",
     "metadata": {},
     "outputs": [],
     "prompt_number": 6
    },
    {
     "cell_type": "heading",
     "level": 1,
     "metadata": {},
     "source": [
      "Build results for GraphViz from the matches"
     ]
    },
    {
     "cell_type": "code",
     "collapsed": false,
     "input": [
      "bolarray = []\n",
      "for item in bol_matches:\n",
      "    Bol = item['Boolean']\n",
      "    Dom = item['Domain']\n",
      "    Ste = item['State']\n",
      "    pnode = \"\\\"\"+Dom+\"\\\"\"+link+\"\\\"\"+Bol+\"\\\"\"+Ste+\"\\\"\"+gvend\n",
      "    bolarray.append(pnode)\n",
      "    \n",
      "svcarray = []\n",
      "for item in svc_matches:\n",
      "    Svc = item['Service']\n",
      "    Dom = item['Domain']\n",
      "    snode = \"\\\"\"+Svc+\"\\\"\"+link+\"\\\"\"+Dom+\"\\\"\"+gvend\n",
      "    svcarray.append(snode)  \n",
      "\n",
      "    fcarray = []\n",
      "for item in fc_matches:\n",
      "    Pth = item['Path']\n",
      "    Dom = item['Domain']\n",
      "    snode = \"\\\"\"+Dom+\"\\\"\"+link+\"\\\"\"+Pth+\"\\\"\"+gvend\n",
      "    fcarray.append(snode)"
     ],
     "language": "python",
     "metadata": {},
     "outputs": [],
     "prompt_number": 7
    },
    {
     "cell_type": "heading",
     "level": 1,
     "metadata": {},
     "source": [
      "Print the results arrays"
     ]
    },
    {
     "cell_type": "code",
     "collapsed": false,
     "input": [
      "for i in svcarray:\n",
      "    print i"
     ],
     "language": "python",
     "metadata": {},
     "outputs": [
      {
       "output_type": "stream",
       "stream": "stdout",
       "text": [
        "\"vsftpd\"->\"ftpd_t\";\n"
       ]
      }
     ],
     "prompt_number": 8
    },
    {
     "cell_type": "code",
     "collapsed": false,
     "input": [
      "for i in bolarray:\n",
      "    print i"
     ],
     "language": "python",
     "metadata": {},
     "outputs": []
    },
    {
     "cell_type": "code",
     "collapsed": false,
     "input": [
      "for i in fcarray:\n",
      "    print i"
     ],
     "language": "python",
     "metadata": {},
     "outputs": []
    },
    {
     "cell_type": "heading",
     "level": 1,
     "metadata": {},
     "source": [
      "Graph Output"
     ]
    },
    {
     "cell_type": "markdown",
     "metadata": {},
     "source": [
      "http://matthiaseisen.com/articles/graphviz/"
     ]
    },
    {
     "cell_type": "code",
     "collapsed": false,
     "input": [
      "import graphviz as gv\n",
      "g1 = gv.Graph(format='svg')\n",
      "g1.body.extend(['rankdir=LR', 'size=\"8,5\"'])"
     ],
     "language": "python",
     "metadata": {},
     "outputs": [],
     "prompt_number": 38
    },
    {
     "cell_type": "code",
     "collapsed": false,
     "input": [
      "#svcarray\n",
      "#bolarray\n",
      "#fcarray\n",
      "#g1.node('A')\n",
      "#g1.node('B')\n",
      "#g1.edge('A', 'B')\n",
      "\n",
      "for item in svc_matches:\n",
      "    Svc = item['Service']\n",
      "    Dom = item['Domain']\n",
      "    g1.node(Svc)\n",
      "    g1.node(Dom)\n",
      "    g1.edge(Svc, Dom)\n",
      "\n",
      "for item in bol_matches:\n",
      "    Bol = item['Boolean']\n",
      "    Dom = item['Domain']\n",
      "    Ste = item['State']\n",
      "    g1.node(Bol)\n",
      "    g1.node(Dom)\n",
      "    g1.edge(Dom, Bol, label=Ste)\n",
      "\n",
      "\n",
      "#for item in fc_matches:\n",
      "#    Pth = item['Path']\n",
      "#    Dom = item['Domain']\n",
      "#    g1.node(Pth)\n",
      "#    g1.node(Dom)\n",
      "#    g1.edge(Pth, Dom)\n",
      "\n"
     ],
     "language": "python",
     "metadata": {},
     "outputs": [],
     "prompt_number": 46
    },
    {
     "cell_type": "code",
     "collapsed": false,
     "input": [
      "print(g1.source)"
     ],
     "language": "python",
     "metadata": {},
     "outputs": [
      {
       "output_type": "stream",
       "stream": "stdout",
       "text": [
        "// None\n",
        "graph {\n",
        "rankdir=LR\n",
        "size=\"8,5\"\n",
        "\tvsftpd\n",
        "\tftpd_t\n",
        "\t\tvsftpd -- ftpd_t\n",
        "\tftp_home_dir\n",
        "\tftpd_t\n",
        "\t\tftpd_t -- ftp_home_dir [label=off]\n",
        "\tftpd_use_cifs\n",
        "\tftpd_t\n",
        "\t\tftpd_t -- ftpd_use_cifs [label=off]\n",
        "\tftpd_use_fusefs\n",
        "\tftpd_t\n",
        "\t\tftpd_t -- ftpd_use_fusefs [label=off]\n",
        "\tftpd_connect_db\n",
        "\tftpd_t\n",
        "\t\tftpd_t -- ftpd_connect_db [label=off]\n",
        "\tftpd_full_access\n",
        "\tftpd_t\n",
        "\t\tftpd_t -- ftpd_full_access [label=off]\n",
        "\ttftp_home_dir\n",
        "\ttftpd_t\n",
        "\t\ttftpd_t -- tftp_home_dir [label=off]\n",
        "\tsftpd_enable_homedirs\n",
        "\tsftpd_t\n",
        "\t\tsftpd_t -- sftpd_enable_homedirs [label=off]\n",
        "\tftpd_use_passive_mode\n",
        "\tftpd_t\n",
        "\t\tftpd_t -- ftpd_use_passive_mode [label=off]\n",
        "\tsftpd_write_ssh_home\n",
        "\tsftpd_t\n",
        "\t\tsftpd_t -- sftpd_write_ssh_home [label=off]\n",
        "\tftpd_use_nfs\n",
        "\tftpd_t\n",
        "\t\tftpd_t -- ftpd_use_nfs [label=off]\n",
        "\tftpd_connect_all_unreserved\n",
        "\tftpd_t\n",
        "\t\tftpd_t -- ftpd_connect_all_unreserved [label=off]\n",
        "\tsftpd_full_access\n",
        "\tsftpd_t\n",
        "\t\tsftpd_t -- sftpd_full_access [label=off]\n",
        "\ttftp_anon_write\n",
        "\ttftpd_t\n",
        "\t\ttftpd_t -- tftp_anon_write [label=off]\n",
        "\tftpd_anon_write\n",
        "\tftpd_t\n",
        "\t\tftpd_t -- ftpd_anon_write [label=off]\n",
        "\tsftpd_anon_write\n",
        "\tsftpd_t\n",
        "\t\tsftpd_t -- sftpd_anon_write [label=off]\n",
        "}\n"
       ]
      }
     ],
     "prompt_number": 40
    },
    {
     "cell_type": "code",
     "collapsed": false,
     "input": [
      "filename = g1.render(filename='ftpt1.gv')\n",
      "print filename"
     ],
     "language": "python",
     "metadata": {},
     "outputs": [
      {
       "output_type": "stream",
       "stream": "stdout",
       "text": [
        "ftpt1.gv.svg\n"
       ]
      }
     ],
     "prompt_number": 47
    },
    {
     "cell_type": "code",
     "collapsed": false,
     "input": [
      "import graphviz as gv\n",
      "g2 = gv.Graph(format='svg')\n",
      "g2.body.extend(['rankdir=LR', 'size=\"8,5\"'])"
     ],
     "language": "python",
     "metadata": {},
     "outputs": [],
     "prompt_number": 53
    },
    {
     "cell_type": "code",
     "collapsed": false,
     "input": [
      "#FTP Selection test1\n",
      "dsel = \"ftp\"\n",
      "svc_matches2 = [svc for svc in serviceres2 if dsel in str(svc['Domain'])]\n",
      "bol_matches2 = [bol for bol in boolres2 if dsel in str(bol['Domain'])]\n",
      "fc_matches2 = [fc for fc in contextres2 if dsel in str(fc['Domain'])]\n",
      "\n",
      "for item in svc_matchest2:\n",
      "    Svc = item['Service']\n",
      "    Dom = item['Domain']\n",
      "    g2.node(Svc)\n",
      "    g2.node(Dom)\n",
      "    g1.edge(Svc, Dom)\n",
      "\n",
      "for item in bol_matches2:\n",
      "    Bol = item['Boolean']\n",
      "    Dom = item['Domain']\n",
      "    Ste = item['State']\n",
      "    g2.node(Bol)\n",
      "    g2.node(Dom)\n",
      "    g2.edge(Dom, Bol, label=Ste)"
     ],
     "language": "python",
     "metadata": {},
     "outputs": [],
     "prompt_number": 50
    },
    {
     "cell_type": "code",
     "collapsed": false,
     "input": [
      "filename = g2.render(filename='ftpt2.gv')\n",
      "print filename"
     ],
     "language": "python",
     "metadata": {},
     "outputs": [
      {
       "output_type": "stream",
       "stream": "stdout",
       "text": [
        "ftpt2.gv.svg\n"
       ]
      }
     ],
     "prompt_number": 51
    },
    {
     "cell_type": "heading",
     "level": 2,
     "metadata": {},
     "source": [
      "FTP test 2"
     ]
    },
    {
     "cell_type": "code",
     "collapsed": false,
     "input": [
      "#FTP Selection test2\n",
      "dsel = \"ftp\"\n",
      "svc_matchest2 = [svc for svc in serviceres2 if dsel in str(svc['Domain'])]\n",
      "bol_matchest2 = [bol for bol in boolres2 if dsel in str(bol['Domain'])]\n",
      "fc_matchest2 = [fc for fc in contextres2 if dsel in str(fc['Domain'])]"
     ],
     "language": "python",
     "metadata": {},
     "outputs": [],
     "prompt_number": 17
    },
    {
     "cell_type": "code",
     "collapsed": false,
     "input": [
      "from graphviz import Digraph"
     ],
     "language": "python",
     "metadata": {},
     "outputs": [],
     "prompt_number": 18
    },
    {
     "cell_type": "code",
     "collapsed": false,
     "input": [
      "f2 = Digraph('ftp_test2', filename='ftp2.gv')\n",
      "f2.body.extend(['rankdir=LR', 'size=\"8,5\"'])"
     ],
     "language": "python",
     "metadata": {},
     "outputs": [],
     "prompt_number": 42
    },
    {
     "cell_type": "code",
     "collapsed": false,
     "input": [
      "for item in svc_matchest2:\n",
      "    Svc = item['Service']\n",
      "    Dom = item['Domain']\n",
      "    f2.node(Svc)\n",
      "    f2.node(Dom)\n",
      "    f2.edge(Svc, Dom)\n",
      "\n",
      "for item in bol_matchest2:\n",
      "    Bol = item['Boolean']\n",
      "    Dom = item['Domain']\n",
      "    Ste = item['State']\n",
      "    f2.node(Bol)\n",
      "    f2.node(Dom)\n",
      "    f2.edge(Dom, Bol, Label=Ste)   "
     ],
     "language": "python",
     "metadata": {},
     "outputs": [],
     "prompt_number": 43
    },
    {
     "cell_type": "code",
     "collapsed": false,
     "input": [
      "f2.view()"
     ],
     "language": "python",
     "metadata": {},
     "outputs": [],
     "prompt_number": 44
    },
    {
     "cell_type": "code",
     "collapsed": false,
     "input": [
      "ls -l"
     ],
     "language": "python",
     "metadata": {},
     "outputs": [
      {
       "output_type": "stream",
       "stream": "stdout",
       "text": [
        "total 232\r\n",
        "-rw-r--r--  1 mike  staff  60751 May 19 12:40 SII-visual.ipynb\r\n",
        "-rw-r--r--  1 mike  staff   1119 May 19 12:38 ftp1.gv\r\n",
        "-rw-r--r--@ 1 mike  staff  16348 May 19 12:38 ftp1.gv.pdf\r\n",
        "-rw-r--r--  1 mike  staff   1127 May 19 12:41 ftp2.gv\r\n",
        "-rw-r--r--  1 mike  staff  15829 May 19 12:41 ftp2.gv.pdf\r\n",
        "-rw-r--r--  1 mike  staff   1107 May 19 12:40 g1.gv\r\n",
        "-rw-r--r--  1 mike  staff  11657 May 19 12:40 g1.gv.svg\r\n"
       ]
      }
     ],
     "prompt_number": 45
    },
    {
     "cell_type": "heading",
     "level": 1,
     "metadata": {},
     "source": [
      "Finite Automaton Graph of Service and Booleans"
     ]
    },
    {
     "cell_type": "markdown",
     "metadata": {},
     "source": [
      "http://www.graphviz.org/content/fsm"
     ]
    },
    {
     "cell_type": "heading",
     "level": 2,
     "metadata": {},
     "source": [
      "FSM for SELinux ftp config"
     ]
    },
    {
     "cell_type": "code",
     "collapsed": false,
     "input": [
      "from graphviz import Digraph"
     ],
     "language": "python",
     "metadata": {},
     "outputs": [],
     "prompt_number": 23
    },
    {
     "cell_type": "code",
     "collapsed": false,
     "input": [
      "f = Digraph('ftp_test1', filename='ftp1.gv')\n",
      "f.body.extend(['rankdir=LR', 'size=\"8,5\"'])"
     ],
     "language": "python",
     "metadata": {},
     "outputs": [],
     "prompt_number": 24
    },
    {
     "cell_type": "code",
     "collapsed": false,
     "input": [
      "for item in svc_matches:\n",
      "    Svc = item['Service']\n",
      "    Dom = item['Domain']\n",
      "    f.node(Svc)\n",
      "    f.node(Dom)\n",
      "    f.edge(Svc, Dom)\n",
      "\n",
      "for item in bol_matches:\n",
      "    Bol = item['Boolean']\n",
      "    Dom = item['Domain']\n",
      "    Ste = item['State']\n",
      "    f.node(Bol)\n",
      "    f.node(Dom)\n",
      "    f.edge(Dom, Bol, Label=Ste)   "
     ],
     "language": "python",
     "metadata": {},
     "outputs": [],
     "prompt_number": 25
    },
    {
     "cell_type": "code",
     "collapsed": false,
     "input": [
      "f.view()"
     ],
     "language": "python",
     "metadata": {},
     "outputs": [],
     "prompt_number": 31
    },
    {
     "cell_type": "code",
     "collapsed": false,
     "input": [
      "ls -l"
     ],
     "language": "python",
     "metadata": {},
     "outputs": [
      {
       "output_type": "stream",
       "stream": "stdout",
       "text": [
        "total 160\r\n",
        "-rw-r--r--  1 mike  staff  57617 May 19 12:36 SII-visual.ipynb\r\n",
        "-rw-r--r--  1 mike  staff   1119 May 19 12:38 ftp1.gv\r\n",
        "-rw-r--r--  1 mike  staff  16348 May 19 12:38 ftp1.gv.pdf\r\n"
       ]
      }
     ],
     "prompt_number": 32
    },
    {
     "cell_type": "code",
     "collapsed": false,
     "input": [
      "print(f.source)"
     ],
     "language": "python",
     "metadata": {},
     "outputs": [
      {
       "output_type": "stream",
       "stream": "stdout",
       "text": [
        "// None\n",
        "digraph ftp_test1 {\n",
        "rankdir=LR\n",
        "size=\"8,5\"\n",
        "\tvsftpd\n",
        "\tftpd_t\n",
        "\t\tvsftpd -> ftpd_t\n",
        "\tftp_home_dir\n",
        "\tftpd_t\n",
        "\t\tftpd_t -> ftp_home_dir [Label=off]\n",
        "\tftpd_use_cifs\n",
        "\tftpd_t\n",
        "\t\tftpd_t -> ftpd_use_cifs [Label=off]\n",
        "\tftpd_use_fusefs\n",
        "\tftpd_t\n",
        "\t\tftpd_t -> ftpd_use_fusefs [Label=off]\n",
        "\tftpd_connect_db\n",
        "\tftpd_t\n",
        "\t\tftpd_t -> ftpd_connect_db [Label=off]\n",
        "\tftpd_full_access\n",
        "\tftpd_t\n",
        "\t\tftpd_t -> ftpd_full_access [Label=off]\n",
        "\ttftp_home_dir\n",
        "\ttftpd_t\n",
        "\t\ttftpd_t -> tftp_home_dir [Label=off]\n",
        "\tsftpd_enable_homedirs\n",
        "\tsftpd_t\n",
        "\t\tsftpd_t -> sftpd_enable_homedirs [Label=off]\n",
        "\tftpd_use_passive_mode\n",
        "\tftpd_t\n",
        "\t\tftpd_t -> ftpd_use_passive_mode [Label=off]\n",
        "\tsftpd_write_ssh_home\n",
        "\tsftpd_t\n",
        "\t\tsftpd_t -> sftpd_write_ssh_home [Label=off]\n",
        "\tftpd_use_nfs\n",
        "\tftpd_t\n",
        "\t\tftpd_t -> ftpd_use_nfs [Label=off]\n",
        "\tftpd_connect_all_unreserved\n",
        "\tftpd_t\n",
        "\t\tftpd_t -> ftpd_connect_all_unreserved [Label=off]\n",
        "\tsftpd_full_access\n",
        "\tsftpd_t\n",
        "\t\tsftpd_t -> sftpd_full_access [Label=off]\n",
        "\ttftp_anon_write\n",
        "\ttftpd_t\n",
        "\t\ttftpd_t -> tftp_anon_write [Label=off]\n",
        "\tftpd_anon_write\n",
        "\tftpd_t\n",
        "\t\tftpd_t -> ftpd_anon_write [Label=off]\n",
        "\tsftpd_anon_write\n",
        "\tsftpd_t\n",
        "\t\tsftpd_t -> sftpd_anon_write [Label=off]\n",
        "}\n"
       ]
      }
     ],
     "prompt_number": 30
    },
    {
     "cell_type": "heading",
     "level": 1,
     "metadata": {},
     "source": [
      "HTTP Search"
     ]
    },
    {
     "cell_type": "heading",
     "level": 2,
     "metadata": {},
     "source": [
      "FSM for SELinux http config"
     ]
    },
    {
     "cell_type": "code",
     "collapsed": false,
     "input": [
      "#http Selection test 1\n",
      "dsel2 = \"http\"\n",
      "svc_matches3 = [svc for svc in serviceres1 if dsel2 in str(svc['Domain'])]\n",
      "bol_matches3 = [bol for bol in boolres1 if dsel2 in str(bol['Domain'])]\n",
      "fc_matches3 = [fc for fc in contextres1 if dsel2 in str(fc['Domain'])]"
     ],
     "language": "python",
     "metadata": {},
     "outputs": [],
     "prompt_number": 39
    },
    {
     "cell_type": "code",
     "collapsed": false,
     "input": [
      "#http Selection test 2\n",
      "svc_matches4 = [svc for svc in serviceres2 if dsel2 in str(svc['Domain'])]\n",
      "bol_matches4 = [bol for bol in boolres2 if dsel2 in str(bol['Domain'])]\n",
      "fc_matches4 = [fc for fc in contextres2 if dsel2 in str(fc['Domain'])]"
     ],
     "language": "python",
     "metadata": {},
     "outputs": [],
     "prompt_number": 40
    },
    {
     "cell_type": "code",
     "collapsed": false,
     "input": [
      "bolarray2 = []\n",
      "for item in bol_matches3:\n",
      "    Bol = item['Boolean']\n",
      "    Dom = item['Domain']\n",
      "    pnode = \"\\\"\"+Dom+\"\\\"\"+link+\"\\\"\"+Bol+\"\\\"\"+gvend\n",
      "    bolarray2.append(pnode)\n",
      "svcarray2 = []\n",
      "for item in svc_matches3:\n",
      "    Svc = item['Service']\n",
      "    Dom = item['Domain']\n",
      "    snode = \"\\\"\"+Svc+\"\\\"\"+link+\"\\\"\"+Dom+\"\\\"\"+gvend\n",
      "    svcarray2.append(snode)\n",
      "fcarray2 = []\n",
      "for item in fc_matches3:\n",
      "    Pth = item['Path']\n",
      "    Dom = item['Domain']\n",
      "    snode = \"\\\"\"+Dom+\"\\\"\"+link+\"\\\"\"+Pth+\"\\\"\"+gvend\n",
      "    fcarray2.append(snode)"
     ],
     "language": "python",
     "metadata": {},
     "outputs": [],
     "prompt_number": 41
    },
    {
     "cell_type": "code",
     "collapsed": false,
     "input": [
      "for i in svcarray2:\n",
      "    print i"
     ],
     "language": "python",
     "metadata": {},
     "outputs": [
      {
       "output_type": "stream",
       "stream": "stdout",
       "text": [
        "\"httpd\"->\"httpd_t\";\n"
       ]
      }
     ],
     "prompt_number": 42
    },
    {
     "cell_type": "code",
     "collapsed": false,
     "input": [
      "for i in bolarray2:\n",
      "    print i"
     ],
     "language": "python",
     "metadata": {},
     "outputs": [
      {
       "output_type": "stream",
       "stream": "stdout",
       "text": [
        "\"httpd_t\"->\"httpd_can_network_relay\";\n",
        "\"httpd_t\"->\"httpd_can_connect_mythtv\";\n",
        "\"httpd_suexec_t\"->\"httpd_can_network_connect_db\";\n",
        "\"httpd_t\"->\"httpd_use_gpg\";\n",
        "\"httpd_t\"->\"httpd_dbus_sssd\";\n",
        "\"httpd_suexec_t\"->\"httpd_enable_cgi\";\n",
        "\"httpd_t\"->\"httpd_verify_dns\";\n",
        "\"httpd_git_script_t\"->\"git_cgi_enable_homedirs\";\n",
        "\"httpd_t\"->\"httpd_anon_write\";\n",
        "\"httpd_suexec_t\"->\"httpd_use_cifs\";\n",
        "\"httpd_suexec_t\"->\"httpd_enable_homedirs\";\n",
        "\"httpd_sys_script_t\"->\"httpd_unified\";\n",
        "\"httpd_t\"->\"httpd_run_stickshift\";\n",
        "\"httpd_suexec_t\"->\"httpd_use_fusefs\";\n",
        "\"httpd_t\"->\"httpd_can_connect_ldap\";\n",
        "\"httpd_t\"->\"httpd_can_network_connect\";\n",
        "\"httpd_t\"->\"httpd_use_sasl\";\n",
        "\"httpd_suexec_t\"->\"httpd_tty_comm\";\n",
        "\"httpd_sys_script_t\"->\"httpd_sys_script_anon_write\";\n",
        "\"httpd_git_script_t\"->\"git_cgi_use_nfs\";\n",
        "\"httpd_t\"->\"httpd_graceful_shutdown\";\n",
        "\"httpd_t\"->\"httpd_can_connect_ftp\";\n",
        "\"httpd_sys_script_t\"->\"httpd_read_user_content\";\n",
        "\"httpd_suexec_t\"->\"httpd_use_nfs\";\n",
        "\"httpd_t\"->\"httpd_can_connect_zabbix\";\n",
        "\"httpd_sys_script_t\"->\"httpd_tmp_exec\";\n",
        "\"httpd_t\"->\"httpd_manage_ipa\";\n",
        "\"httpd_t\"->\"httpd_can_sendmail\";\n",
        "\"httpd_t\"->\"httpd_builtin_scripting\";\n",
        "\"httpd_t\"->\"httpd_dbus_avahi\";\n",
        "\"httpd_t\"->\"httpd_can_check_spam\";\n",
        "\"httpd_t\"->\"httpd_can_network_memcache\";\n",
        "\"httpd_t\"->\"httpd_can_network_connect_cobbler\";\n",
        "\"httpd_t\"->\"httpd_serve_cobbler_files\";\n",
        "\"httpd_git_script_t\"->\"git_cgi_use_cifs\";\n",
        "\"httpd_sys_script_t\"->\"httpd_execmem\";\n",
        "\"httpd_t\"->\"httpd_ssi_exec\";\n",
        "\"httpd_sys_script_t\"->\"httpd_use_openstack\";\n",
        "\"httpd_t\"->\"httpd_enable_ftp_server\";\n",
        "\"httpd_t\"->\"httpd_setrlimit\";\n"
       ]
      }
     ],
     "prompt_number": 43
    },
    {
     "cell_type": "code",
     "collapsed": false,
     "input": [
      "for i in fcarray2:\n",
      "    print i"
     ],
     "language": "python",
     "metadata": {},
     "outputs": [
      {
       "output_type": "stream",
       "stream": "stdout",
       "text": [
        "\"httpd_sys_rw_content_t\"->\"/etc/WebCalendar(/.*)?\";\n",
        "\"httpd_config_t\"->\"/etc/apache(2)?(/.*)?\";\n",
        "\"httpd_config_t\"->\"/etc/apache-ssl(2)?(/.*)?\";\n",
        "\"httpd_config_t\"->\"/etc/cherokee(/.*)?\";\n",
        "\"httpd_sys_rw_content_t\"->\"/etc/drupal.*\";\n",
        "\"httpd_sys_rw_content_t\"->\"/etc/glpi(/.*)?\";\n",
        "\"httpd_sys_rw_content_t\"->\"/etc/horde(/.*)?\";\n",
        "\"httpd_sys_content_t\"->\"/etc/htdig(/.*)?\";\n",
        "\"httpd_config_t\"->\"/etc/httpd(/.*)?\";\n",
        "\"httpd_keytab_t\"->\"/etc/httpd/conf/keytab\";\n",
        "\"httpd_log_t\"->\"/etc/httpd/logs\";\n",
        "\"httpd_modules_t\"->\"/etc/httpd/modules\";\n",
        "\"httpd_initrc_exec_t\"->\"/etc/init\\.d/cherokee\";\n",
        "\"httpd_config_t\"->\"/etc/lighttpd(/.*)?\";\n",
        "\"httpd_sys_rw_content_t\"->\"/etc/mock/koji(/.*)?\";\n",
        "\"httpd_config_t\"->\"/etc/nginx(/.*)?\";\n",
        "\"httpd_sys_rw_content_t\"->\"/etc/owncloud(/.*)?\";\n",
        "\"httpd_initrc_exec_t\"->\"/etc/rc\\.d/init\\.d/httpd\";\n",
        "\"httpd_initrc_exec_t\"->\"/etc/rc\\.d/init\\.d/lighttpd\";\n",
        "\"httpd_config_t\"->\"/etc/thttpd\\.conf\";\n",
        "\"httpd_config_t\"->\"/etc/vhosts\";\n",
        "\"httpd_sys_rw_content_t\"->\"/etc/z-push(/.*)?\";\n",
        "\"httpd_sys_rw_content_t\"->\"/etc/zabbix/web(/.*)?\";\n",
        "\"httpd_sys_script_exec_t\"->\"/opt/.*\\.cgi\";\n",
        "\"httpd_var_run_t\"->\"/opt/dirsrv/var/run/dirsrv/dsgw/cookies(/.*)?\";\n",
        "\"httpd_sys_content_t\"->\"/srv/([^/]*/)?www(/.*)?\";\n",
        "\"httpd_log_t\"->\"/srv/([^/]*/)?www/logs(/.*)?\";\n",
        "\"httpd_sys_content_t\"->\"/srv/gallery2(/.*)?\";\n",
        "\"httpd_sys_rw_content_t\"->\"/srv/gallery2/smarty(/.*)?\";\n",
        "\"httpd_sys_script_exec_t\"->\"/usr/.*\\.cgi\";\n",
        "\"httpd_helper_exec_t\"->\"/usr/bin/htsslpass\";\n",
        "\"httpd_mojomojo_script_exec_t\"->\"/usr/bin/mojomojo_fastcgi\\.pl\";\n",
        "\"httpd_exec_t\"->\"/usr/bin/mongrel_rails\";\n",
        "\"httpd_modules_t\"->\"/usr/lib/apache(/.*)?\";\n",
        "\"httpd_suexec_exec_t\"->\"/usr/lib/apache(2)?/suexec(2)?\";\n",
        "\"httpd_exec_t\"->\"/usr/lib/apache-ssl/.+\";\n",
        "\"httpd_modules_t\"->\"/usr/lib/apache2/modules(/.*)?\";\n",
        "\"httpd_sys_script_exec_t\"->\"/usr/lib/cgi-bin(/.*)?\";\n",
        "\"httpd_suexec_exec_t\"->\"/usr/lib/cgi-bin/(nph-)?cgiwrap(d)?\";\n",
        "\"httpd_w3c_validator_script_exec_t\"->\"/usr/lib/cgi-bin/check\";\n",
        "\"httpd_nagios_script_exec_t\"->\"/usr/lib/cgi-bin/nagios(/.+)?\";\n",
        "\"httpd_nagios_script_exec_t\"->\"/usr/lib/cgi-bin/netsaint(/.*)?\";\n",
        "\"httpd_modules_t\"->\"/usr/lib/cherokee(/.*)?\";\n",
        "\"httpd_dirsrvadmin_script_exec_t\"->\"/usr/lib/dirsrv/cgi-bin(/.*)?\";\n",
        "\"httpd_dirsrvadmin_script_exec_t\"->\"/usr/lib/dirsrv/dsgw-cgi-bin(/.*)?\";\n",
        "\"httpd_modules_t\"->\"/usr/lib/httpd(/.*)?\";\n",
        "\"httpd_nagios_script_exec_t\"->\"/usr/lib/icinga/cgi(/.*)?\";\n",
        "\"httpd_modules_t\"->\"/usr/lib/lighttpd(/.*)?\";\n",
        "\"httpd_man2html_script_exec_t\"->\"/usr/lib/man2html/cgi-bin/man/man2html\";\n",
        "\"httpd_man2html_script_exec_t\"->\"/usr/lib/man2html/cgi-bin/man/mansec\";\n",
        "\"httpd_man2html_script_exec_t\"->\"/usr/lib/man2html/cgi-bin/man/manwhatis\";\n",
        "\"httpd_mediawiki_script_exec_t\"->\"/usr/lib/mediawiki/math/texvc\";\n",
        "\"httpd_mediawiki_script_exec_t\"->\"/usr/lib/mediawiki/math/texvc_tes\";\n",
        "\"httpd_mediawiki_script_exec_t\"->\"/usr/lib/mediawiki/math/texvc_tex\";\n",
        "\"httpd_nagios_script_exec_t\"->\"/usr/lib/nagios/cgi(/.*)?\";\n",
        "\"httpd_nagios_script_exec_t\"->\"/usr/lib/nagios/cgi-bin(/.*)?\";\n",
        "\"httpd_squid_script_exec_t\"->\"/usr/lib/squid/cachemgr\\.cgi\";\n",
        "\"httpd_unit_file_t\"->\"/usr/lib/systemd/system/httpd.*\";\n",
        "\"httpd_unit_file_t\"->\"/usr/lib/systemd/system/jetty.*\";\n",
        "\"httpd_unit_file_t\"->\"/usr/lib/systemd/system/nginx.*\";\n",
        "\"httpd_unit_file_t\"->\"/usr/lib/systemd/system/php-fpm.*\";\n",
        "\"httpd_passwd_exec_t\"->\"/usr/libexec/httpd-ssl-pass-dialog\";\n",
        "\"httpd_zoneminder_script_exec_t\"->\"/usr/libexec/zoneminder/cgi-bin(/.*)?\";\n",
        "\"httpd_openshift_script_exec_t\"->\"/usr/s?bin/(oo|rhc)-restorer-wrapper.sh\";\n",
        "\"httpd_exec_t\"->\"/usr/sbin/apache(2)?\";\n",
        "\"httpd_exec_t\"->\"/usr/sbin/apache-ssl(2)?\";\n",
        "\"httpd_exec_t\"->\"/usr/sbin/cherokee\";\n",
        "\"httpd_exec_t\"->\"/usr/sbin/htcacheclean\";\n",
        "\"httpd_exec_t\"->\"/usr/sbin/httpd(\\.worker)?\";\n",
        "\"httpd_exec_t\"->\"/usr/sbin/httpd\\.event\";\n",
        "\"httpd_exec_t\"->\"/usr/sbin/lighttpd\";\n",
        "\"httpd_exec_t\"->\"/usr/sbin/nginx\";\n",
        "\"httpd_exec_t\"->\"/usr/sbin/php-fpm\";\n",
        "\"httpd_rotatelogs_exec_t\"->\"/usr/sbin/rotatelogs\";\n",
        "\"httpd_suexec_exec_t\"->\"/usr/sbin/suexec\";\n",
        "\"httpd_exec_t\"->\"/usr/sbin/thttpd\";\n",
        "\"httpd_awstats_content_t\"->\"/usr/share/awstats/wwwroot(/.*)?\";\n",
        "\"httpd_awstats_script_exec_t\"->\"/usr/share/awstats/wwwroot/cgi-bin(/.*)?\";\n",
        "\"httpd_bugzilla_content_t\"->\"/usr/share/bugzilla(/.*)?\";\n",
        "\"httpd_bugzilla_script_exec_t\"->\"/usr/share/bugzilla/.*\\.cgi\";\n",
        "\"httpd_collectd_script_exec_t\"->\"/usr/share/collectd/collection3/bin/.*\\.cgi\";\n",
        "\"httpd_cvs_script_exec_t\"->\"/usr/share/cvsweb/cvsweb\\.cgi\";\n",
        "\"httpd_sys_content_t\"->\"/usr/share/doc/ghc/html(/.*)?\";\n",
        "\"httpd_sys_content_t\"->\"/usr/share/drupal.*\";\n",
        "\"httpd_dspam_script_exec_t\"->\"/usr/share/dspam-web/dspam\\.cgi\";\n",
        "\"httpd_sys_content_t\"->\"/usr/share/glpi(/.*)?\";\n",
        "\"httpd_sys_content_t\"->\"/usr/share/htdig(/.*)?\";\n",
        "\"httpd_sys_content_t\"->\"/usr/share/icecast(/.*)?\";\n",
        "\"httpd_exec_t\"->\"/usr/share/jetty/bin/jetty.sh\";\n",
        "\"httpd_sys_rw_content_t\"->\"/usr/share/joomla(/.*)?\";\n",
        "\"httpd_squid_script_exec_t\"->\"/usr/share/lightsquid/cgi(/.*)?\";\n",
        "\"httpd_mediawiki_content_t\"->\"/usr/share/mediawiki(/.*)?\";\n",
        "\"httpd_mojomojo_content_t\"->\"/usr/share/mojomojo/root(/.*)?\";\n",
        "\"httpd_mythtv_content_t\"->\"/usr/share/mythtv(/.*)?\";\n",
        "\"httpd_mythtv_script_exec_t\"->\"/usr/share/mythtv/mythweather/scripts(/.*)?\";\n",
        "\"httpd_mythtv_content_t\"->\"/usr/share/mythweb(/.*)?\";\n",
        "\"httpd_mythtv_script_exec_t\"->\"/usr/share/mythweb/mythweb\\.pl\";\n",
        "\"httpd_sys_content_t\"->\"/usr/share/ntop/html(/.*)?\";\n",
        "\"httpd_sys_content_t\"->\"/usr/share/openca/htdocs(/.*)?\";\n",
        "\"httpd_prewikka_script_exec_t\"->\"/usr/share/prewikka/cgi-bin(/.*)?\";\n",
        "\"httpd_sys_content_t\"->\"/usr/share/selinux-policy[^/]*/html(/.*)?\";\n",
        "\"httpd_smokeping_cgi_script_exec_t\"->\"/usr/share/smokeping/cgi(/.*)?\";\n",
        "\"httpd_w3c_validator_content_t\"->\"/usr/share/w3c-markup-validator(/.*)?\";\n",
        "\"httpd_w3c_validator_script_exec_t\"->\"/usr/share/w3c-markup-validator/cgi-bin(/.*)?\";\n",
        "\"httpd_sys_script_exec_t\"->\"/usr/share/wordpress-mu/wp-config\\.php\";\n",
        "\"httpd_sys_rw_content_t\"->\"/usr/share/wordpress-mu/wp-content(/.*)?\";\n",
        "\"httpd_sys_script_exec_t\"->\"/usr/share/wordpress/.*\\.php\";\n",
        "\"httpd_sys_rw_content_t\"->\"/usr/share/wordpress/wp-content/upgrade(/.*)?\";\n",
        "\"httpd_sys_rw_content_t\"->\"/usr/share/wordpress/wp-content/uploads(/.*)?\";\n",
        "\"httpd_sys_script_exec_t\"->\"/usr/share/wordpress/wp-includes/.*\\.php\";\n",
        "\"httpd_sys_content_t\"->\"/usr/share/z-push(/.*)?\";\n",
        "\"httpd_git_rw_content_t\"->\"/var/cache/cgit(/.*)?\";\n",
        "\"httpd_git_rw_content_t\"->\"/var/cache/gitweb-caching(/.*)?\";\n",
        "\"httpd_cache_t\"->\"/var/cache/httpd(/.*)?\";\n",
        "\"httpd_cache_t\"->\"/var/cache/lighttpd(/.*)?\";\n",
        "\"httpd_man2html_script_cache_t\"->\"/var/cache/man2html(/.*)?\";\n",
        "\"httpd_cache_t\"->\"/var/cache/mason(/.*)?\";\n",
        "\"httpd_cache_t\"->\"/var/cache/mediawiki(/.*)?\";\n",
        "\"httpd_cache_t\"->\"/var/cache/mod_.*\";\n",
        "\"httpd_cache_t\"->\"/var/cache/mod_gnutls(/.*)?\";\n",
        "\"httpd_cache_t\"->\"/var/cache/mod_proxy(/.*)?\";\n",
        "\"httpd_cache_t\"->\"/var/cache/mod_ssl(/.*)?\";\n",
        "\"httpd_cache_t\"->\"/var/cache/php-.*\";\n",
        "\"httpd_cache_t\"->\"/var/cache/php-eaccelerator(/.*)?\";\n",
        "\"httpd_cache_t\"->\"/var/cache/php-mmcache(/.*)?\";\n",
        "\"httpd_cache_t\"->\"/var/cache/rt(3|4)(/.*)?\";\n",
        "\"httpd_cache_t\"->\"/var/cache/ssl.*\\.sem\";\n",
        "\"httpd_bugzilla_rw_content_t\"->\"/var/lib/bugzilla(/.*)?\";\n",
        "\"httpd_sys_content_t\"->\"/var/lib/cacti/rra(/.*)?\";\n",
        "\"httpd_var_lib_t\"->\"/var/lib/cherokee(/.*)?\";\n",
        "\"httpd_var_lib_t\"->\"/var/lib/dav(/.*)?\";\n",
        "\"httpd_sys_rw_content_t\"->\"/var/lib/dokuwiki(/.*)?\";\n",
        "\"httpd_sys_rw_content_t\"->\"/var/lib/drupal.*\";\n",
        "\"httpd_dspam_rw_content_t\"->\"/var/lib/dspam/data(/.*)?\";\n",
        "\"httpd_var_lib_t\"->\"/var/lib/glpi(/.*)?\";\n",
        "\"httpd_sys_content_t\"->\"/var/lib/htdig(/.*)?\";\n",
        "\"httpd_var_lib_t\"->\"/var/lib/httpd(/.*)?\";\n",
        "\"httpd_var_lib_t\"->\"/var/lib/lighttpd(/.*)?\";\n",
        "\"httpd_var_lib_t\"->\"/var/lib/mod_security(/.*)?\";\n",
        "\"httpd_mojomojo_rw_content_t\"->\"/var/lib/mojomojo(/.*)?\";\n",
        "\"httpd_sys_rw_content_t\"->\"/var/lib/moodle(/.*)?\";\n",
        "\"httpd_var_lib_t\"->\"/var/lib/nginx(/.*)?\";\n",
        "\"httpd_config_t\"->\"/var/lib/openshift/\\.httpd\\.d(/.*)?\";\n",
        "\"httpd_log_t\"->\"/var/lib/openshift/\\.log/httpd(/.*)?\";\n",
        "\"httpd_sys_rw_content_t\"->\"/var/lib/owncloud(/.*)?\";\n",
        "\"httpd_var_lib_t\"->\"/var/lib/php(/.*)?\";\n",
        "\"httpd_var_run_t\"->\"/var/lib/php/session(/.*)?\";\n",
        "\"httpd_var_run_t\"->\"/var/lib/php/wsdlcache(/.*)?\";\n",
        "\"httpd_sys_rw_content_t\"->\"/var/lib/pootle/po(/.*)?\";\n",
        "\"httpd_var_lib_t\"->\"/var/lib/rt(3|4)/data/RT-Shredder(/.*)?\";\n",
        "\"httpd_squirrelmail_t\"->\"/var/lib/squirrelmail/prefs(/.*)?\";\n",
        "\"httpd_config_t\"->\"/var/lib/stickshift/\\.httpd\\.d(/.*)?\";\n",
        "\"httpd_sys_rw_content_t\"->\"/var/lib/svn(/.*)?\";\n",
        "\"httpd_sys_content_t\"->\"/var/lib/trac(/.*)?\";\n",
        "\"httpd_var_lib_t\"->\"/var/lib/z-push(/.*)?\";\n",
        "\"httpd_log_t\"->\"/var/log/apache(2)?(/.*)?\";\n",
        "\"httpd_log_t\"->\"/var/log/apache-ssl(2)?(/.*)?\";\n",
        "\"httpd_log_t\"->\"/var/log/cacti(/.*)?\";\n",
        "\"httpd_log_t\"->\"/var/log/cgiwrap\\.log.*\";\n",
        "\"httpd_log_t\"->\"/var/log/cherokee(/.*)?\";\n",
        "\"httpd_log_t\"->\"/var/log/dirsrv/admin-serv(/.*)?\";\n",
        "\"httpd_log_t\"->\"/var/log/glpi(/.*)?\";\n",
        "\"httpd_log_t\"->\"/var/log/httpd(/.*)?\";\n",
        "\"httpd_log_t\"->\"/var/log/lighttpd(/.*)?\";\n",
        "\"httpd_log_t\"->\"/var/log/nginx(/.*)?\";\n",
        "\"httpd_log_t\"->\"/var/log/php-fpm(/.*)?\";\n",
        "\"httpd_log_t\"->\"/var/log/php_errors\\.log.*\";\n",
        "\"httpd_log_t\"->\"/var/log/roundcubemail(/.*)?\";\n",
        "\"httpd_log_t\"->\"/var/log/suphp\\.log.*\";\n",
        "\"httpd_log_t\"->\"/var/log/thttpd\\.log.*\";\n",
        "\"httpd_sys_rw_content_t\"->\"/var/log/z-push(/.*)?\";\n",
        "\"httpd_var_run_t\"->\"/var/run/apache.*\";\n",
        "\"httpd_var_run_t\"->\"/var/run/cherokee\\.pid\";\n",
        "\"httpd_var_run_t\"->\"/var/run/dirsrv/admin-serv.*\";\n",
        "\"httpd_var_run_t\"->\"/var/run/gcache_port\";\n",
        "\"httpd_var_run_t\"->\"/var/run/httpd.*\";\n",
        "\"httpd_var_run_t\"->\"/var/run/lighttpd(/.*)?\";\n",
        "\"httpd_var_run_t\"->\"/var/run/mod_.*\";\n",
        "\"httpd_var_run_t\"->\"/var/run/nginx.*\";\n",
        "\"httpd_var_run_t\"->\"/var/run/php-fpm(/.*)?\";\n",
        "\"httpd_var_run_t\"->\"/var/run/thttpd\\.pid\";\n",
        "\"httpd_tmp_t\"->\"/var/run/user/apache(/.*)?\";\n",
        "\"httpd_var_run_t\"->\"/var/run/wsgi.*\";\n",
        "\"httpd_sys_rw_content_t\"->\"/var/spool/gosa(/.*)?\";\n",
        "\"httpd_sys_rw_content_t\"->\"/var/spool/viewvc(/.*)?\";\n",
        "\"httpd_sys_content_t\"->\"/var/www(/.*)?\";\n",
        "\"httpd_log_t\"->\"/var/www(/.*)?/logs(/.*)?\";\n",
        "\"httpd_sys_script_exec_t\"->\"/var/www/[^/]*/cgi-bin(/.*)?\";\n",
        "\"httpd_apcupsd_cgi_script_exec_t\"->\"/var/www/apcupsd/multimon\\.cgi\";\n",
        "\"httpd_apcupsd_cgi_script_exec_t\"->\"/var/www/apcupsd/upsfstats\\.cgi\";\n",
        "\"httpd_apcupsd_cgi_script_exec_t\"->\"/var/www/apcupsd/upsimage\\.cgi\";\n",
        "\"httpd_apcupsd_cgi_script_exec_t\"->\"/var/www/apcupsd/upsstats\\.cgi\";\n",
        "\"httpd_sys_script_exec_t\"->\"/var/www/cgi-bin(/.*)?\";\n",
        "\"httpd_apcupsd_cgi_script_exec_t\"->\"/var/www/cgi-bin/apcgui(/.*)?\";\n",
        "\"httpd_git_script_exec_t\"->\"/var/www/cgi-bin/cgit\";\n",
        "\"httpd_cvs_script_exec_t\"->\"/var/www/cgi-bin/cvsweb\\.cgi\";\n",
        "\"httpd_munin_script_exec_t\"->\"/var/www/cgi-bin/munin.*\";\n",
        "\"httpd_dspam_content_t\"->\"/var/www/dspam(/.*?)\";\n",
        "\"httpd_dspam_script_exec_t\"->\"/var/www/dspam/.*\\.cgi\";\n",
        "\"httpd_sys_rw_content_t\"->\"/var/www/gallery/albums(/.*)?\";\n",
        "\"httpd_git_content_t\"->\"/var/www/git(/.*)?\";\n",
        "\"httpd_git_script_exec_t\"->\"/var/www/git/gitweb\\.cgi\";\n",
        "\"httpd_git_script_exec_t\"->\"/var/www/gitweb-caching/gitweb\\.cgi\";\n",
        "\"httpd_sys_rw_content_t\"->\"/var/www/html(/.*)?/sites/default/files(/.*)?\";\n",
        "\"httpd_sys_rw_content_t\"->\"/var/www/html(/.*)?/sites/default/settings\\.php\";\n",
        "\"httpd_sys_rw_content_t\"->\"/var/www/html(/.*)?/uploads(/.*)?\";\n",
        "\"httpd_sys_rw_content_t\"->\"/var/www/html(/.*)?/wp-content(/.*)?\";\n",
        "\"httpd_sys_script_exec_t\"->\"/var/www/html/[^/]*/cgi-bin(/.*)?\";\n",
        "\"httpd_munin_script_exec_t\"->\"/var/www/html/cgi/munin.*\";\n",
        "\"httpd_sys_rw_content_t\"->\"/var/www/html/configuration\\.php\";\n",
        "\"httpd_munin_content_t\"->\"/var/www/html/munin(/.*)?\";\n",
        "\"httpd_munin_script_exec_t\"->\"/var/www/html/munin/cgi(/.*)?\";\n",
        "\"httpd_sys_rw_content_t\"->\"/var/www/html/owncloud/data(/.*)?\";\n",
        "\"httpd_sys_content_t\"->\"/var/www/icons(/.*)?\";\n",
        "\"httpd_log_t\"->\"/var/www/miq/vmdb/log(/.*)?\";\n",
        "\"httpd_sys_rw_content_t\"->\"/var/www/moodle/data(/.*)?\";\n",
        "\"httpd_sys_rw_content_t\"->\"/var/www/moodledata(/.*)?\";\n",
        "\"httpd_nutups_cgi_script_exec_t\"->\"/var/www/nut-cgi-bin/upsimage\\.cgi\";\n",
        "\"httpd_nutups_cgi_script_exec_t\"->\"/var/www/nut-cgi-bin/upsset\\.cgi\";\n",
        "\"httpd_nutups_cgi_script_exec_t\"->\"/var/www/nut-cgi-bin/upsstats\\.cgi\";\n",
        "\"httpd_log_t\"->\"/var/www/openshift/broker/httpd/logs(/.*)?\";\n",
        "\"httpd_var_run_t\"->\"/var/www/openshift/broker/httpd/run(/.*)?\";\n",
        "\"httpd_log_t\"->\"/var/www/openshift/console/httpd/logs(/.*)?\";\n",
        "\"httpd_var_run_t\"->\"/var/www/openshift/console/httpd/run(/.*)?\";\n",
        "\"httpd_log_t\"->\"/var/www/openshift/console/log(/.*)?\";\n",
        "\"httpd_tmp_t\"->\"/var/www/openshift/console/tmp(/.*)?\";\n",
        "\"httpd_sys_script_exec_t\"->\"/var/www/perl(/.*)?\";\n",
        "\"httpd_log_t\"->\"/var/www/stickshift/[^/]*/log(/.*)?\";\n",
        "\"httpd_sys_rw_content_t\"->\"/var/www/svn(/.*)?\";\n",
        "\"httpd_sys_content_t\"->\"/var/www/svn/conf(/.*)?\";\n",
        "\"httpd_sys_script_exec_t\"->\"/var/www/svn/hooks(/.*)?\";\n",
        "\"httpd_webalizer_content_t\"->\"/var/www/usage(/.*)?\";\n",
        "\"httpd_mediawiki_rw_content_t\"->\"/var/www/wiki(/.*)?\";\n",
        "\"httpd_mediawiki_content_t\"->\"/var/www/wiki/.*\\.php\";\n"
       ]
      }
     ],
     "prompt_number": 44
    },
    {
     "cell_type": "heading",
     "level": 1,
     "metadata": {},
     "source": [
      "HTTP in FSM Graph"
     ]
    },
    {
     "cell_type": "code",
     "collapsed": false,
     "input": [
      "f3 = Digraph('http_test1', filename='httpt1.gv')\n",
      "f3.body.extend(['rankdir=LR', 'size=\"8,5\"'])"
     ],
     "language": "python",
     "metadata": {},
     "outputs": [],
     "prompt_number": 65
    },
    {
     "cell_type": "code",
     "collapsed": false,
     "input": [
      "for item in svc_matches2:\n",
      "    Svc = item['Service']\n",
      "    Dom = item['Domain']\n",
      "    f3.node(Svc)\n",
      "    f3.node(Dom)\n",
      "    f3.edge(Svc, Dom)\n",
      "\n",
      "for item in bol_matches2:\n",
      "    Bol = item['Boolean']\n",
      "    Dom = item['Domain']\n",
      "    f3.node(Bol)\n",
      "    f3.node(Dom)\n",
      "    f3.edge(Dom, Bol)  "
     ],
     "language": "python",
     "metadata": {},
     "outputs": [],
     "prompt_number": 66
    },
    {
     "cell_type": "code",
     "collapsed": false,
     "input": [
      "f3.view()"
     ],
     "language": "python",
     "metadata": {},
     "outputs": [],
     "prompt_number": 67
    },
    {
     "cell_type": "code",
     "collapsed": false,
     "input": [
      "ls -l "
     ],
     "language": "python",
     "metadata": {},
     "outputs": [
      {
       "output_type": "stream",
       "stream": "stdout",
       "text": [
        "total 512\r\n",
        "-rw-r--r--  1 mike  staff  50520 May 17 16:14 SII-visual.ipynb\r\n",
        "-rw-r--r--  1 mike  staff    939 May 17 15:58 ftp1.gv\r\n",
        "-rw-r--r--  1 mike  staff  16356 May 17 15:58 ftp1.gv.pdf\r\n",
        "-rw-r--r--  1 mike  staff    949 May 17 16:09 ftp2.gv\r\n",
        "-rw-r--r--  1 mike  staff  16339 May 17 16:09 ftp2.gv.pdf\r\n",
        "-rw-r--r--  1 mike  staff  27596 May 17 16:13 http_t1_full.gv\r\n",
        "-rw-r--r--@ 1 mike  staff  81836 May 17 16:13 http_t1_full.gv.pdf\r\n",
        "-rw-r--r--  1 mike  staff   2923 May 17 16:15 httpt1.gv\r\n",
        "-rw-r--r--  1 mike  staff  24130 May 17 16:15 httpt1.gv.pdf\r\n",
        "-rw-r--r--  1 mike  staff   2906 May 17 16:08 httpt2.gv\r\n",
        "-rw-r--r--@ 1 mike  staff  24389 May 17 16:08 httpt2.gv.pdf\r\n"
       ]
      }
     ],
     "prompt_number": 68
    },
    {
     "cell_type": "code",
     "collapsed": false,
     "input": [
      "f4 = Digraph('http_test2', filename='httpt2.gv')\n",
      "f4.body.extend(['rankdir=LR', 'size=\"8,5\"'])"
     ],
     "language": "python",
     "metadata": {},
     "outputs": [],
     "prompt_number": 49
    },
    {
     "cell_type": "code",
     "collapsed": false,
     "input": [
      "for item in svc_matches4:\n",
      "    Svc = item['Service']\n",
      "    Dom = item['Domain']\n",
      "    f4.node(Svc)\n",
      "    f4.node(Dom)\n",
      "    f4.edge(Svc, Dom)\n",
      "\n",
      "for item in bol_matches4:\n",
      "    Bol = item['Boolean']\n",
      "    Dom = item['Domain']\n",
      "    f4.node(Bol)\n",
      "    f4.node(Dom)\n",
      "    f4.edge(Dom, Bol)  "
     ],
     "language": "python",
     "metadata": {},
     "outputs": [],
     "prompt_number": 50
    },
    {
     "cell_type": "code",
     "collapsed": false,
     "input": [
      "f4.view()"
     ],
     "language": "python",
     "metadata": {},
     "outputs": [],
     "prompt_number": 51
    },
    {
     "cell_type": "code",
     "collapsed": false,
     "input": [
      "ls -l"
     ],
     "language": "python",
     "metadata": {},
     "outputs": [
      {
       "output_type": "stream",
       "stream": "stdout",
       "text": [
        "total 232\r\n",
        "-rw-r--r--  1 mike  staff  47382 May 17 16:08 SII-visual.ipynb\r\n",
        "-rw-r--r--  1 mike  staff    939 May 17 15:58 ftp1.gv\r\n",
        "-rw-r--r--  1 mike  staff  16356 May 17 15:58 ftp1.gv.pdf\r\n",
        "-rw-r--r--  1 mike  staff    949 May 17 16:08 ftp2.gv\r\n",
        "-rw-r--r--  1 mike  staff  16343 May 17 16:08 ftp2.gv.pdf\r\n",
        "-rw-r--r--  1 mike  staff   2906 May 17 16:08 httpt2.gv\r\n",
        "-rw-r--r--  1 mike  staff  24389 May 17 16:08 httpt2.gv.pdf\r\n"
       ]
      }
     ],
     "prompt_number": 52
    },
    {
     "cell_type": "heading",
     "level": 1,
     "metadata": {},
     "source": [
      "HTTP all three SII areas"
     ]
    },
    {
     "cell_type": "code",
     "collapsed": false,
     "input": [
      "f5 = Digraph('http_test1_Full', filename='http_t1_full.gv')\n",
      "f5.body.extend(['rankdir=LR', 'size=\"8,5\"'])"
     ],
     "language": "python",
     "metadata": {},
     "outputs": [],
     "prompt_number": 62
    },
    {
     "cell_type": "code",
     "collapsed": false,
     "input": [
      "for item in svc_matches2:\n",
      "    Svc = item['Service']\n",
      "    Dom = item['Domain']\n",
      "    f5.node(Svc)\n",
      "    f5.node(Dom)\n",
      "    f5.edge(Svc, Dom)\n",
      "\n",
      "for item in bol_matches2:\n",
      "    Bol = item['Boolean']\n",
      "    Dom = item['Domain']\n",
      "    f5.node(Bol)\n",
      "    f5.node(Dom)\n",
      "    f5.edge(Dom, Bol)  \n",
      "\n",
      "for item in fc_matches2:\n",
      "    Pth = item['Path']\n",
      "    Dom = item['Domain']\n",
      "    f5.node(Pth)\n",
      "    f5.node(Dom)\n",
      "    f5.edge(Dom, Pth)"
     ],
     "language": "python",
     "metadata": {},
     "outputs": [],
     "prompt_number": 63
    },
    {
     "cell_type": "code",
     "collapsed": false,
     "input": [
      "f5.view()"
     ],
     "language": "python",
     "metadata": {},
     "outputs": [],
     "prompt_number": 64
    },
    {
     "cell_type": "heading",
     "level": 1,
     "metadata": {},
     "source": [
      "FTP Test 1 All Three Areas"
     ]
    },
    {
     "cell_type": "code",
     "collapsed": false,
     "input": [
      "f6 = Digraph('ftp_test1_full', filename='ftpt1_full.gv')\n",
      "f6.body.extend(['rankdir=LR', 'size=\"8,5\"'])"
     ],
     "language": "python",
     "metadata": {},
     "outputs": [],
     "prompt_number": 69
    },
    {
     "cell_type": "code",
     "collapsed": false,
     "input": [
      "for item in svc_matches:\n",
      "    Svc = item['Service']\n",
      "    Dom = item['Domain']\n",
      "    f6.node(Svc)\n",
      "    f6.node(Dom)\n",
      "    f6.edge(Svc, Dom)\n",
      "\n",
      "for item in bol_matches:\n",
      "    Bol = item['Boolean']\n",
      "    Dom = item['Domain']\n",
      "    f6.node(Bol)\n",
      "    f6.node(Dom)\n",
      "    f6.edge(Dom, Bol)   \n",
      "\n",
      "for item in fc_matches:\n",
      "    Pth = item['Path']\n",
      "    Dom = item['Domain']\n",
      "    f6.node(Pth)\n",
      "    f6.node(Dom)\n",
      "    f6.edge(Dom, Pth)"
     ],
     "language": "python",
     "metadata": {},
     "outputs": [],
     "prompt_number": 70
    },
    {
     "cell_type": "code",
     "collapsed": false,
     "input": [
      "f6.view()"
     ],
     "language": "python",
     "metadata": {},
     "outputs": [],
     "prompt_number": 71
    },
    {
     "cell_type": "code",
     "collapsed": false,
     "input": [
      "ls -l "
     ],
     "language": "python",
     "metadata": {},
     "outputs": [
      {
       "output_type": "stream",
       "stream": "stdout",
       "text": [
        "total 568\r\n",
        "-rw-r--r--  1 mike  staff  51649 May 17 16:18 SII-visual.ipynb\r\n",
        "-rw-r--r--  1 mike  staff    939 May 17 15:58 ftp1.gv\r\n",
        "-rw-r--r--  1 mike  staff  16356 May 17 15:58 ftp1.gv.pdf\r\n",
        "-rw-r--r--  1 mike  staff    949 May 17 16:09 ftp2.gv\r\n",
        "-rw-r--r--  1 mike  staff  16339 May 17 16:09 ftp2.gv.pdf\r\n",
        "-rw-r--r--  1 mike  staff   2403 May 17 16:19 ftpt1_full.gv\r\n",
        "-rw-r--r--  1 mike  staff  22858 May 17 16:19 ftpt1_full.gv.pdf\r\n",
        "-rw-r--r--  1 mike  staff  27596 May 17 16:13 http_t1_full.gv\r\n",
        "-rw-r--r--@ 1 mike  staff  81836 May 17 16:13 http_t1_full.gv.pdf\r\n",
        "-rw-r--r--  1 mike  staff   2923 May 17 16:15 httpt1.gv\r\n",
        "-rw-r--r--  1 mike  staff  24130 May 17 16:15 httpt1.gv.pdf\r\n",
        "-rw-r--r--  1 mike  staff   2906 May 17 16:08 httpt2.gv\r\n",
        "-rw-r--r--@ 1 mike  staff  24389 May 17 16:08 httpt2.gv.pdf\r\n"
       ]
      }
     ],
     "prompt_number": 72
    },
    {
     "cell_type": "code",
     "collapsed": false,
     "input": [],
     "language": "python",
     "metadata": {},
     "outputs": []
    }
   ],
   "metadata": {}
  }
 ]
}